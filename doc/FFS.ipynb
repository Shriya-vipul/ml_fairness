{
  "nbformat": 4,
  "nbformat_minor": 0,
  "metadata": {
    "colab": {
      "name": "FFS.ipynb",
      "provenance": [],
      "collapsed_sections": []
    },
    "kernelspec": {
      "name": "python3",
      "display_name": "Python 3"
    },
    "language_info": {
      "name": "python"
    }
  },
  "cells": [
    {
      "cell_type": "markdown",
      "source": [
        "# FFS"
      ],
      "metadata": {
        "id": "y3jam49fUjj9"
      }
    },
    {
      "cell_type": "markdown",
      "source": [
        "## Step 0. Import Packages & Setup"
      ],
      "metadata": {
        "id": "qRSs_aU5H4Ja"
      }
    },
    {
      "cell_type": "code",
      "execution_count": 1,
      "metadata": {
        "id": "xrF9dlhxCxCz"
      },
      "outputs": [],
      "source": [
        "import numpy as np\n",
        "import matplotlib.pyplot as plt\n",
        "import pandas as pd\n",
        "import os\n",
        "import sys\n",
        "import seaborn as sns\n",
        "\n",
        "from sklearn.model_selection import cross_val_score, GridSearchCV, train_test_split, StratifiedKFold, RepeatedStratifiedKFold\n",
        "from sklearn.preprocessing import LabelEncoder\n",
        "from sklearn.metrics import classification_report, roc_curve, confusion_matrix\n",
        "from sklearn.ensemble import RandomForestClassifier, GradientBoostingClassifier"
      ]
    },
    {
      "cell_type": "code",
      "source": [
        "# mount gdrive\n",
        "from google.colab import drive\n",
        "drive.mount('/gdrive')"
      ],
      "metadata": {
        "colab": {
          "base_uri": "https://localhost:8080/"
        },
        "id": "5PXmrf-NC8V9",
        "outputId": "adc9533e-85ff-4ead-b81d-b5d14779718b"
      },
      "execution_count": 2,
      "outputs": [
        {
          "output_type": "stream",
          "name": "stdout",
          "text": [
            "Mounted at /gdrive\n"
          ]
        }
      ]
    },
    {
      "cell_type": "code",
      "source": [
        "# change root to the necessary path\n",
        "root = \"/gdrive/MyDrive/ads_proj4/ads-spring-2022-prj4-group-11-1/\"\n",
        "outputs_dir = root + \"output/\"\n",
        "lib_dir = root + \"lib/\"\n",
        "\n",
        "assert os.path.exists(root), 'Check the path to your root directory'\n",
        "assert os.path.exists(outputs_dir), 'Check the path to your outputs directory'\n",
        "assert os.path.exists(lib_dir), 'Check the path to your lib directory'\n",
        "\n",
        "sys.path.append(lib_dir)"
      ],
      "metadata": {
        "id": "oLJAJ_w8DCpQ"
      },
      "execution_count": 3,
      "outputs": []
    },
    {
      "cell_type": "markdown",
      "source": [
        "## Step 1. Data Processing"
      ],
      "metadata": {
        "id": "egaKJN0LH8-S"
      }
    },
    {
      "cell_type": "code",
      "source": [
        "# loading data\n",
        "compas = pd.read_csv(outputs_dir + 'ffs_data_v3.csv', header=0,\n",
        "                     dtype = {'age_cat': int,'race': int,\n",
        "                              'priors_count': int,'length_of_stay': int})\n",
        "compas.head()"
      ],
      "metadata": {
        "colab": {
          "base_uri": "https://localhost:8080/",
          "height": 206
        },
        "id": "xuoaJ5tIH8ZK",
        "outputId": "354229ed-1317-4b7a-cbbf-b17ba486b619"
      },
      "execution_count": null,
      "outputs": [
        {
          "output_type": "execute_result",
          "data": {
            "text/plain": [
              "   age c_charge_degree  race     sex  priors_count  length_of_stay  \\\n",
              "0   34               F     0    Male             0               1   \n",
              "1   24               F     0    Male             2               0   \n",
              "2   41               F     1    Male             2               0   \n",
              "3   39               M     1  Female             0               0   \n",
              "4   27               F     1    Male             0               0   \n",
              "\n",
              "   two_year_recid  juv_fel_count  juv_misd_count  juv_other_count  \n",
              "0               1              0               0                0  \n",
              "1               1              0               0                1  \n",
              "2               1              0               0                0  \n",
              "3               0              0               0                0  \n",
              "4               0              0               0                0  "
            ],
            "text/html": [
              "\n",
              "  <div id=\"df-6010fd2a-5c63-4eb2-8031-8a2e1f11d32f\">\n",
              "    <div class=\"colab-df-container\">\n",
              "      <div>\n",
              "<style scoped>\n",
              "    .dataframe tbody tr th:only-of-type {\n",
              "        vertical-align: middle;\n",
              "    }\n",
              "\n",
              "    .dataframe tbody tr th {\n",
              "        vertical-align: top;\n",
              "    }\n",
              "\n",
              "    .dataframe thead th {\n",
              "        text-align: right;\n",
              "    }\n",
              "</style>\n",
              "<table border=\"1\" class=\"dataframe\">\n",
              "  <thead>\n",
              "    <tr style=\"text-align: right;\">\n",
              "      <th></th>\n",
              "      <th>age</th>\n",
              "      <th>c_charge_degree</th>\n",
              "      <th>race</th>\n",
              "      <th>sex</th>\n",
              "      <th>priors_count</th>\n",
              "      <th>length_of_stay</th>\n",
              "      <th>two_year_recid</th>\n",
              "      <th>juv_fel_count</th>\n",
              "      <th>juv_misd_count</th>\n",
              "      <th>juv_other_count</th>\n",
              "    </tr>\n",
              "  </thead>\n",
              "  <tbody>\n",
              "    <tr>\n",
              "      <th>0</th>\n",
              "      <td>34</td>\n",
              "      <td>F</td>\n",
              "      <td>0</td>\n",
              "      <td>Male</td>\n",
              "      <td>0</td>\n",
              "      <td>1</td>\n",
              "      <td>1</td>\n",
              "      <td>0</td>\n",
              "      <td>0</td>\n",
              "      <td>0</td>\n",
              "    </tr>\n",
              "    <tr>\n",
              "      <th>1</th>\n",
              "      <td>24</td>\n",
              "      <td>F</td>\n",
              "      <td>0</td>\n",
              "      <td>Male</td>\n",
              "      <td>2</td>\n",
              "      <td>0</td>\n",
              "      <td>1</td>\n",
              "      <td>0</td>\n",
              "      <td>0</td>\n",
              "      <td>1</td>\n",
              "    </tr>\n",
              "    <tr>\n",
              "      <th>2</th>\n",
              "      <td>41</td>\n",
              "      <td>F</td>\n",
              "      <td>1</td>\n",
              "      <td>Male</td>\n",
              "      <td>2</td>\n",
              "      <td>0</td>\n",
              "      <td>1</td>\n",
              "      <td>0</td>\n",
              "      <td>0</td>\n",
              "      <td>0</td>\n",
              "    </tr>\n",
              "    <tr>\n",
              "      <th>3</th>\n",
              "      <td>39</td>\n",
              "      <td>M</td>\n",
              "      <td>1</td>\n",
              "      <td>Female</td>\n",
              "      <td>0</td>\n",
              "      <td>0</td>\n",
              "      <td>0</td>\n",
              "      <td>0</td>\n",
              "      <td>0</td>\n",
              "      <td>0</td>\n",
              "    </tr>\n",
              "    <tr>\n",
              "      <th>4</th>\n",
              "      <td>27</td>\n",
              "      <td>F</td>\n",
              "      <td>1</td>\n",
              "      <td>Male</td>\n",
              "      <td>0</td>\n",
              "      <td>0</td>\n",
              "      <td>0</td>\n",
              "      <td>0</td>\n",
              "      <td>0</td>\n",
              "      <td>0</td>\n",
              "    </tr>\n",
              "  </tbody>\n",
              "</table>\n",
              "</div>\n",
              "      <button class=\"colab-df-convert\" onclick=\"convertToInteractive('df-6010fd2a-5c63-4eb2-8031-8a2e1f11d32f')\"\n",
              "              title=\"Convert this dataframe to an interactive table.\"\n",
              "              style=\"display:none;\">\n",
              "        \n",
              "  <svg xmlns=\"http://www.w3.org/2000/svg\" height=\"24px\"viewBox=\"0 0 24 24\"\n",
              "       width=\"24px\">\n",
              "    <path d=\"M0 0h24v24H0V0z\" fill=\"none\"/>\n",
              "    <path d=\"M18.56 5.44l.94 2.06.94-2.06 2.06-.94-2.06-.94-.94-2.06-.94 2.06-2.06.94zm-11 1L8.5 8.5l.94-2.06 2.06-.94-2.06-.94L8.5 2.5l-.94 2.06-2.06.94zm10 10l.94 2.06.94-2.06 2.06-.94-2.06-.94-.94-2.06-.94 2.06-2.06.94z\"/><path d=\"M17.41 7.96l-1.37-1.37c-.4-.4-.92-.59-1.43-.59-.52 0-1.04.2-1.43.59L10.3 9.45l-7.72 7.72c-.78.78-.78 2.05 0 2.83L4 21.41c.39.39.9.59 1.41.59.51 0 1.02-.2 1.41-.59l7.78-7.78 2.81-2.81c.8-.78.8-2.07 0-2.86zM5.41 20L4 18.59l7.72-7.72 1.47 1.35L5.41 20z\"/>\n",
              "  </svg>\n",
              "      </button>\n",
              "      \n",
              "  <style>\n",
              "    .colab-df-container {\n",
              "      display:flex;\n",
              "      flex-wrap:wrap;\n",
              "      gap: 12px;\n",
              "    }\n",
              "\n",
              "    .colab-df-convert {\n",
              "      background-color: #E8F0FE;\n",
              "      border: none;\n",
              "      border-radius: 50%;\n",
              "      cursor: pointer;\n",
              "      display: none;\n",
              "      fill: #1967D2;\n",
              "      height: 32px;\n",
              "      padding: 0 0 0 0;\n",
              "      width: 32px;\n",
              "    }\n",
              "\n",
              "    .colab-df-convert:hover {\n",
              "      background-color: #E2EBFA;\n",
              "      box-shadow: 0px 1px 2px rgba(60, 64, 67, 0.3), 0px 1px 3px 1px rgba(60, 64, 67, 0.15);\n",
              "      fill: #174EA6;\n",
              "    }\n",
              "\n",
              "    [theme=dark] .colab-df-convert {\n",
              "      background-color: #3B4455;\n",
              "      fill: #D2E3FC;\n",
              "    }\n",
              "\n",
              "    [theme=dark] .colab-df-convert:hover {\n",
              "      background-color: #434B5C;\n",
              "      box-shadow: 0px 1px 3px 1px rgba(0, 0, 0, 0.15);\n",
              "      filter: drop-shadow(0px 1px 2px rgba(0, 0, 0, 0.3));\n",
              "      fill: #FFFFFF;\n",
              "    }\n",
              "  </style>\n",
              "\n",
              "      <script>\n",
              "        const buttonEl =\n",
              "          document.querySelector('#df-6010fd2a-5c63-4eb2-8031-8a2e1f11d32f button.colab-df-convert');\n",
              "        buttonEl.style.display =\n",
              "          google.colab.kernel.accessAllowed ? 'block' : 'none';\n",
              "\n",
              "        async function convertToInteractive(key) {\n",
              "          const element = document.querySelector('#df-6010fd2a-5c63-4eb2-8031-8a2e1f11d32f');\n",
              "          const dataTable =\n",
              "            await google.colab.kernel.invokeFunction('convertToInteractive',\n",
              "                                                     [key], {});\n",
              "          if (!dataTable) return;\n",
              "\n",
              "          const docLinkHtml = 'Like what you see? Visit the ' +\n",
              "            '<a target=\"_blank\" href=https://colab.research.google.com/notebooks/data_table.ipynb>data table notebook</a>'\n",
              "            + ' to learn more about interactive tables.';\n",
              "          element.innerHTML = '';\n",
              "          dataTable['output_type'] = 'display_data';\n",
              "          await google.colab.output.renderOutput(dataTable, element);\n",
              "          const docLink = document.createElement('div');\n",
              "          docLink.innerHTML = docLinkHtml;\n",
              "          element.appendChild(docLink);\n",
              "        }\n",
              "      </script>\n",
              "    </div>\n",
              "  </div>\n",
              "  "
            ]
          },
          "metadata": {},
          "execution_count": 5
        }
      ]
    },
    {
      "cell_type": "code",
      "source": [
        "compas['c_charge_degree'] = pd.get_dummies(compas['c_charge_degree'])['F'] # 1 if felony, 0 if misdemeanor\n",
        "compas['sex'] = pd.get_dummies(compas['sex'])['Male'] # 1 if male, 0 if female\n",
        "\n",
        "juv_cond = (compas['juv_fel_count'] > 0) | (compas['juv_misd_count'] > 0) | (compas['juv_other_count'] > 0)\n",
        "compas['has_juv'] = np.where(juv_cond, 1, 0)\n",
        "compas['has_prior'] = np.where(compas['priors_count'] > 0, 1, 0)\n",
        "compas.head()"
      ],
      "metadata": {
        "colab": {
          "base_uri": "https://localhost:8080/",
          "height": 206
        },
        "id": "ohEUjhzvIJsU",
        "outputId": "f7990ba1-fae8-4f57-cda9-bc696eeb53d5"
      },
      "execution_count": null,
      "outputs": [
        {
          "output_type": "execute_result",
          "data": {
            "text/plain": [
              "   age  c_charge_degree  race  sex  priors_count  length_of_stay  \\\n",
              "0   34                1     0    1             0               1   \n",
              "1   24                1     0    1             2               0   \n",
              "2   41                1     1    1             2               0   \n",
              "3   39                0     1    0             0               0   \n",
              "4   27                1     1    1             0               0   \n",
              "\n",
              "   two_year_recid  juv_fel_count  juv_misd_count  juv_other_count  has_juv  \\\n",
              "0               1              0               0                0        0   \n",
              "1               1              0               0                1        1   \n",
              "2               1              0               0                0        0   \n",
              "3               0              0               0                0        0   \n",
              "4               0              0               0                0        0   \n",
              "\n",
              "   has_prior  \n",
              "0          0  \n",
              "1          1  \n",
              "2          1  \n",
              "3          0  \n",
              "4          0  "
            ],
            "text/html": [
              "\n",
              "  <div id=\"df-edb9bc9b-caf3-4725-b105-b80ae0516a8f\">\n",
              "    <div class=\"colab-df-container\">\n",
              "      <div>\n",
              "<style scoped>\n",
              "    .dataframe tbody tr th:only-of-type {\n",
              "        vertical-align: middle;\n",
              "    }\n",
              "\n",
              "    .dataframe tbody tr th {\n",
              "        vertical-align: top;\n",
              "    }\n",
              "\n",
              "    .dataframe thead th {\n",
              "        text-align: right;\n",
              "    }\n",
              "</style>\n",
              "<table border=\"1\" class=\"dataframe\">\n",
              "  <thead>\n",
              "    <tr style=\"text-align: right;\">\n",
              "      <th></th>\n",
              "      <th>age</th>\n",
              "      <th>c_charge_degree</th>\n",
              "      <th>race</th>\n",
              "      <th>sex</th>\n",
              "      <th>priors_count</th>\n",
              "      <th>length_of_stay</th>\n",
              "      <th>two_year_recid</th>\n",
              "      <th>juv_fel_count</th>\n",
              "      <th>juv_misd_count</th>\n",
              "      <th>juv_other_count</th>\n",
              "      <th>has_juv</th>\n",
              "      <th>has_prior</th>\n",
              "    </tr>\n",
              "  </thead>\n",
              "  <tbody>\n",
              "    <tr>\n",
              "      <th>0</th>\n",
              "      <td>34</td>\n",
              "      <td>1</td>\n",
              "      <td>0</td>\n",
              "      <td>1</td>\n",
              "      <td>0</td>\n",
              "      <td>1</td>\n",
              "      <td>1</td>\n",
              "      <td>0</td>\n",
              "      <td>0</td>\n",
              "      <td>0</td>\n",
              "      <td>0</td>\n",
              "      <td>0</td>\n",
              "    </tr>\n",
              "    <tr>\n",
              "      <th>1</th>\n",
              "      <td>24</td>\n",
              "      <td>1</td>\n",
              "      <td>0</td>\n",
              "      <td>1</td>\n",
              "      <td>2</td>\n",
              "      <td>0</td>\n",
              "      <td>1</td>\n",
              "      <td>0</td>\n",
              "      <td>0</td>\n",
              "      <td>1</td>\n",
              "      <td>1</td>\n",
              "      <td>1</td>\n",
              "    </tr>\n",
              "    <tr>\n",
              "      <th>2</th>\n",
              "      <td>41</td>\n",
              "      <td>1</td>\n",
              "      <td>1</td>\n",
              "      <td>1</td>\n",
              "      <td>2</td>\n",
              "      <td>0</td>\n",
              "      <td>1</td>\n",
              "      <td>0</td>\n",
              "      <td>0</td>\n",
              "      <td>0</td>\n",
              "      <td>0</td>\n",
              "      <td>1</td>\n",
              "    </tr>\n",
              "    <tr>\n",
              "      <th>3</th>\n",
              "      <td>39</td>\n",
              "      <td>0</td>\n",
              "      <td>1</td>\n",
              "      <td>0</td>\n",
              "      <td>0</td>\n",
              "      <td>0</td>\n",
              "      <td>0</td>\n",
              "      <td>0</td>\n",
              "      <td>0</td>\n",
              "      <td>0</td>\n",
              "      <td>0</td>\n",
              "      <td>0</td>\n",
              "    </tr>\n",
              "    <tr>\n",
              "      <th>4</th>\n",
              "      <td>27</td>\n",
              "      <td>1</td>\n",
              "      <td>1</td>\n",
              "      <td>1</td>\n",
              "      <td>0</td>\n",
              "      <td>0</td>\n",
              "      <td>0</td>\n",
              "      <td>0</td>\n",
              "      <td>0</td>\n",
              "      <td>0</td>\n",
              "      <td>0</td>\n",
              "      <td>0</td>\n",
              "    </tr>\n",
              "  </tbody>\n",
              "</table>\n",
              "</div>\n",
              "      <button class=\"colab-df-convert\" onclick=\"convertToInteractive('df-edb9bc9b-caf3-4725-b105-b80ae0516a8f')\"\n",
              "              title=\"Convert this dataframe to an interactive table.\"\n",
              "              style=\"display:none;\">\n",
              "        \n",
              "  <svg xmlns=\"http://www.w3.org/2000/svg\" height=\"24px\"viewBox=\"0 0 24 24\"\n",
              "       width=\"24px\">\n",
              "    <path d=\"M0 0h24v24H0V0z\" fill=\"none\"/>\n",
              "    <path d=\"M18.56 5.44l.94 2.06.94-2.06 2.06-.94-2.06-.94-.94-2.06-.94 2.06-2.06.94zm-11 1L8.5 8.5l.94-2.06 2.06-.94-2.06-.94L8.5 2.5l-.94 2.06-2.06.94zm10 10l.94 2.06.94-2.06 2.06-.94-2.06-.94-.94-2.06-.94 2.06-2.06.94z\"/><path d=\"M17.41 7.96l-1.37-1.37c-.4-.4-.92-.59-1.43-.59-.52 0-1.04.2-1.43.59L10.3 9.45l-7.72 7.72c-.78.78-.78 2.05 0 2.83L4 21.41c.39.39.9.59 1.41.59.51 0 1.02-.2 1.41-.59l7.78-7.78 2.81-2.81c.8-.78.8-2.07 0-2.86zM5.41 20L4 18.59l7.72-7.72 1.47 1.35L5.41 20z\"/>\n",
              "  </svg>\n",
              "      </button>\n",
              "      \n",
              "  <style>\n",
              "    .colab-df-container {\n",
              "      display:flex;\n",
              "      flex-wrap:wrap;\n",
              "      gap: 12px;\n",
              "    }\n",
              "\n",
              "    .colab-df-convert {\n",
              "      background-color: #E8F0FE;\n",
              "      border: none;\n",
              "      border-radius: 50%;\n",
              "      cursor: pointer;\n",
              "      display: none;\n",
              "      fill: #1967D2;\n",
              "      height: 32px;\n",
              "      padding: 0 0 0 0;\n",
              "      width: 32px;\n",
              "    }\n",
              "\n",
              "    .colab-df-convert:hover {\n",
              "      background-color: #E2EBFA;\n",
              "      box-shadow: 0px 1px 2px rgba(60, 64, 67, 0.3), 0px 1px 3px 1px rgba(60, 64, 67, 0.15);\n",
              "      fill: #174EA6;\n",
              "    }\n",
              "\n",
              "    [theme=dark] .colab-df-convert {\n",
              "      background-color: #3B4455;\n",
              "      fill: #D2E3FC;\n",
              "    }\n",
              "\n",
              "    [theme=dark] .colab-df-convert:hover {\n",
              "      background-color: #434B5C;\n",
              "      box-shadow: 0px 1px 3px 1px rgba(0, 0, 0, 0.15);\n",
              "      filter: drop-shadow(0px 1px 2px rgba(0, 0, 0, 0.3));\n",
              "      fill: #FFFFFF;\n",
              "    }\n",
              "  </style>\n",
              "\n",
              "      <script>\n",
              "        const buttonEl =\n",
              "          document.querySelector('#df-edb9bc9b-caf3-4725-b105-b80ae0516a8f button.colab-df-convert');\n",
              "        buttonEl.style.display =\n",
              "          google.colab.kernel.accessAllowed ? 'block' : 'none';\n",
              "\n",
              "        async function convertToInteractive(key) {\n",
              "          const element = document.querySelector('#df-edb9bc9b-caf3-4725-b105-b80ae0516a8f');\n",
              "          const dataTable =\n",
              "            await google.colab.kernel.invokeFunction('convertToInteractive',\n",
              "                                                     [key], {});\n",
              "          if (!dataTable) return;\n",
              "\n",
              "          const docLinkHtml = 'Like what you see? Visit the ' +\n",
              "            '<a target=\"_blank\" href=https://colab.research.google.com/notebooks/data_table.ipynb>data table notebook</a>'\n",
              "            + ' to learn more about interactive tables.';\n",
              "          element.innerHTML = '';\n",
              "          dataTable['output_type'] = 'display_data';\n",
              "          await google.colab.output.renderOutput(dataTable, element);\n",
              "          const docLink = document.createElement('div');\n",
              "          docLink.innerHTML = docLinkHtml;\n",
              "          element.appendChild(docLink);\n",
              "        }\n",
              "      </script>\n",
              "    </div>\n",
              "  </div>\n",
              "  "
            ]
          },
          "metadata": {},
          "execution_count": 6
        }
      ]
    },
    {
      "cell_type": "code",
      "source": [
        "X = compas[['age', 'c_charge_degree', 'sex', 'length_of_stay', \n",
        "            'has_juv', 'has_prior']]\n",
        "y = compas['two_year_recid']\n",
        "protected = compas['race']"
      ],
      "metadata": {
        "id": "wlXvxZ_RINM_"
      },
      "execution_count": null,
      "outputs": []
    },
    {
      "cell_type": "markdown",
      "source": [
        "## Step 2. FFS: Computing Accuracy and Discrimination Shapley scores"
      ],
      "metadata": {
        "id": "43ENRpMwELHT"
      }
    },
    {
      "cell_type": "markdown",
      "source": [
        "Please run `run_ffs.py` to get the shapley scores for the features."
      ],
      "metadata": {
        "id": "R-Okww9fEQ1A"
      }
    },
    {
      "cell_type": "code",
      "source": [
        "scores = pd.read_csv(outputs_dir + 'ffs_scores.csv', header=0)\n",
        "scores"
      ],
      "metadata": {
        "colab": {
          "base_uri": "https://localhost:8080/",
          "height": 238
        },
        "id": "-Wq0feNeEWwp",
        "outputId": "14496540-15ad-4a45-fa94-1225c3ea30ed"
      },
      "execution_count": 6,
      "outputs": [
        {
          "output_type": "execute_result",
          "data": {
            "text/plain": [
              "           Feature  Accuracy  Discrimination\n",
              "0              age  2.972540    6.033005e+06\n",
              "1  c_charge_degree  0.675193    3.177313e+06\n",
              "2              sex  0.569750    2.770908e+06\n",
              "3   length_of_stay  0.634509    3.482324e+06\n",
              "4          has_juv  0.533954    1.609420e+06\n",
              "5        has_prior  0.591429    2.751210e+06"
            ],
            "text/html": [
              "\n",
              "  <div id=\"df-b73795a3-7135-4692-9e17-1529efe984e0\">\n",
              "    <div class=\"colab-df-container\">\n",
              "      <div>\n",
              "<style scoped>\n",
              "    .dataframe tbody tr th:only-of-type {\n",
              "        vertical-align: middle;\n",
              "    }\n",
              "\n",
              "    .dataframe tbody tr th {\n",
              "        vertical-align: top;\n",
              "    }\n",
              "\n",
              "    .dataframe thead th {\n",
              "        text-align: right;\n",
              "    }\n",
              "</style>\n",
              "<table border=\"1\" class=\"dataframe\">\n",
              "  <thead>\n",
              "    <tr style=\"text-align: right;\">\n",
              "      <th></th>\n",
              "      <th>Feature</th>\n",
              "      <th>Accuracy</th>\n",
              "      <th>Discrimination</th>\n",
              "    </tr>\n",
              "  </thead>\n",
              "  <tbody>\n",
              "    <tr>\n",
              "      <th>0</th>\n",
              "      <td>age</td>\n",
              "      <td>2.972540</td>\n",
              "      <td>6.033005e+06</td>\n",
              "    </tr>\n",
              "    <tr>\n",
              "      <th>1</th>\n",
              "      <td>c_charge_degree</td>\n",
              "      <td>0.675193</td>\n",
              "      <td>3.177313e+06</td>\n",
              "    </tr>\n",
              "    <tr>\n",
              "      <th>2</th>\n",
              "      <td>sex</td>\n",
              "      <td>0.569750</td>\n",
              "      <td>2.770908e+06</td>\n",
              "    </tr>\n",
              "    <tr>\n",
              "      <th>3</th>\n",
              "      <td>length_of_stay</td>\n",
              "      <td>0.634509</td>\n",
              "      <td>3.482324e+06</td>\n",
              "    </tr>\n",
              "    <tr>\n",
              "      <th>4</th>\n",
              "      <td>has_juv</td>\n",
              "      <td>0.533954</td>\n",
              "      <td>1.609420e+06</td>\n",
              "    </tr>\n",
              "    <tr>\n",
              "      <th>5</th>\n",
              "      <td>has_prior</td>\n",
              "      <td>0.591429</td>\n",
              "      <td>2.751210e+06</td>\n",
              "    </tr>\n",
              "  </tbody>\n",
              "</table>\n",
              "</div>\n",
              "      <button class=\"colab-df-convert\" onclick=\"convertToInteractive('df-b73795a3-7135-4692-9e17-1529efe984e0')\"\n",
              "              title=\"Convert this dataframe to an interactive table.\"\n",
              "              style=\"display:none;\">\n",
              "        \n",
              "  <svg xmlns=\"http://www.w3.org/2000/svg\" height=\"24px\"viewBox=\"0 0 24 24\"\n",
              "       width=\"24px\">\n",
              "    <path d=\"M0 0h24v24H0V0z\" fill=\"none\"/>\n",
              "    <path d=\"M18.56 5.44l.94 2.06.94-2.06 2.06-.94-2.06-.94-.94-2.06-.94 2.06-2.06.94zm-11 1L8.5 8.5l.94-2.06 2.06-.94-2.06-.94L8.5 2.5l-.94 2.06-2.06.94zm10 10l.94 2.06.94-2.06 2.06-.94-2.06-.94-.94-2.06-.94 2.06-2.06.94z\"/><path d=\"M17.41 7.96l-1.37-1.37c-.4-.4-.92-.59-1.43-.59-.52 0-1.04.2-1.43.59L10.3 9.45l-7.72 7.72c-.78.78-.78 2.05 0 2.83L4 21.41c.39.39.9.59 1.41.59.51 0 1.02-.2 1.41-.59l7.78-7.78 2.81-2.81c.8-.78.8-2.07 0-2.86zM5.41 20L4 18.59l7.72-7.72 1.47 1.35L5.41 20z\"/>\n",
              "  </svg>\n",
              "      </button>\n",
              "      \n",
              "  <style>\n",
              "    .colab-df-container {\n",
              "      display:flex;\n",
              "      flex-wrap:wrap;\n",
              "      gap: 12px;\n",
              "    }\n",
              "\n",
              "    .colab-df-convert {\n",
              "      background-color: #E8F0FE;\n",
              "      border: none;\n",
              "      border-radius: 50%;\n",
              "      cursor: pointer;\n",
              "      display: none;\n",
              "      fill: #1967D2;\n",
              "      height: 32px;\n",
              "      padding: 0 0 0 0;\n",
              "      width: 32px;\n",
              "    }\n",
              "\n",
              "    .colab-df-convert:hover {\n",
              "      background-color: #E2EBFA;\n",
              "      box-shadow: 0px 1px 2px rgba(60, 64, 67, 0.3), 0px 1px 3px 1px rgba(60, 64, 67, 0.15);\n",
              "      fill: #174EA6;\n",
              "    }\n",
              "\n",
              "    [theme=dark] .colab-df-convert {\n",
              "      background-color: #3B4455;\n",
              "      fill: #D2E3FC;\n",
              "    }\n",
              "\n",
              "    [theme=dark] .colab-df-convert:hover {\n",
              "      background-color: #434B5C;\n",
              "      box-shadow: 0px 1px 3px 1px rgba(0, 0, 0, 0.15);\n",
              "      filter: drop-shadow(0px 1px 2px rgba(0, 0, 0, 0.3));\n",
              "      fill: #FFFFFF;\n",
              "    }\n",
              "  </style>\n",
              "\n",
              "      <script>\n",
              "        const buttonEl =\n",
              "          document.querySelector('#df-b73795a3-7135-4692-9e17-1529efe984e0 button.colab-df-convert');\n",
              "        buttonEl.style.display =\n",
              "          google.colab.kernel.accessAllowed ? 'block' : 'none';\n",
              "\n",
              "        async function convertToInteractive(key) {\n",
              "          const element = document.querySelector('#df-b73795a3-7135-4692-9e17-1529efe984e0');\n",
              "          const dataTable =\n",
              "            await google.colab.kernel.invokeFunction('convertToInteractive',\n",
              "                                                     [key], {});\n",
              "          if (!dataTable) return;\n",
              "\n",
              "          const docLinkHtml = 'Like what you see? Visit the ' +\n",
              "            '<a target=\"_blank\" href=https://colab.research.google.com/notebooks/data_table.ipynb>data table notebook</a>'\n",
              "            + ' to learn more about interactive tables.';\n",
              "          element.innerHTML = '';\n",
              "          dataTable['output_type'] = 'display_data';\n",
              "          await google.colab.output.renderOutput(dataTable, element);\n",
              "          const docLink = document.createElement('div');\n",
              "          docLink.innerHTML = docLinkHtml;\n",
              "          element.appendChild(docLink);\n",
              "        }\n",
              "      </script>\n",
              "    </div>\n",
              "  </div>\n",
              "  "
            ]
          },
          "metadata": {},
          "execution_count": 6
        }
      ]
    },
    {
      "cell_type": "code",
      "source": [
        "scores.loc[0]['Accuracy']"
      ],
      "metadata": {
        "colab": {
          "base_uri": "https://localhost:8080/"
        },
        "id": "xwBKUeWXBBFF",
        "outputId": "9cf61624-7154-466b-d5d0-6c71f2288573"
      },
      "execution_count": 21,
      "outputs": [
        {
          "output_type": "execute_result",
          "data": {
            "text/plain": [
              "2.972539554542558"
            ]
          },
          "metadata": {},
          "execution_count": 21
        }
      ]
    },
    {
      "cell_type": "code",
      "source": [
        "# fairness utility score\n",
        "alpha = np.linspace(1e-7, 1e-9, 10000)\n",
        "def utility(acc, disc, alpha):\n",
        "  return acc - (alpha * disc)\n",
        "\n",
        "for i in range(len(scores)):\n",
        "  plt.plot(alpha, utility(scores.loc[i]['Accuracy'], \n",
        "                          scores.loc[i]['Discrimination'],\n",
        "                          alpha), label=scores.loc[i]['Feature'])\n",
        "  \n",
        "plt.legend()\n",
        "plt.title(\"Fairness Utility Score: alpha = [1e-9, 1e-7]\")\n",
        "plt.xlabel('Alpha')\n",
        "plt.ylabel('Fairness Utility')"
      ],
      "metadata": {
        "colab": {
          "base_uri": "https://localhost:8080/",
          "height": 312
        },
        "id": "U0FipoQG-n4w",
        "outputId": "6e3a384e-d2c5-4b10-e339-34a478e34d15"
      },
      "execution_count": 30,
      "outputs": [
        {
          "output_type": "execute_result",
          "data": {
            "text/plain": [
              "Text(0, 0.5, 'Fairness Utility')"
            ]
          },
          "metadata": {},
          "execution_count": 30
        },
        {
          "output_type": "display_data",
          "data": {
            "text/plain": [
              "<Figure size 432x288 with 1 Axes>"
            ],
            "image/png": "[encoded data removed]"
          },
          "metadata": {
            "needs_background": "light"
          }
        }
      ]
    },
    {
      "cell_type": "code",
      "source": [
        "scores[\"rel_acc\"] = scores['Accuracy'] / np.sum(scores['Accuracy']) * 100\n",
        "scores['rel_disc'] = scores['Discrimination'] / np.sum(scores['Discrimination']) * 100\n",
        "scores"
      ],
      "metadata": {
        "colab": {
          "base_uri": "https://localhost:8080/",
          "height": 238
        },
        "id": "rVyaFLKDQrZo",
        "outputId": "e2c49357-ec07-4197-8bac-3e3488bd22f8"
      },
      "execution_count": 5,
      "outputs": [
        {
          "output_type": "execute_result",
          "data": {
            "text/plain": [
              "           Feature  Accuracy  Discrimination    rel_acc   rel_disc\n",
              "0              age  2.972540    6.033005e+06  49.729851  30.432558\n",
              "1  c_charge_degree  0.675193    3.177313e+06  11.295816  16.027462\n",
              "2              sex  0.569750    2.770908e+06   9.531777  13.977417\n",
              "3   length_of_stay  0.634509    3.482324e+06  10.615180  17.566042\n",
              "4          has_juv  0.533954    1.609420e+06   8.932920   8.118469\n",
              "5        has_prior  0.591429    2.751210e+06   9.894455  13.878052"
            ],
            "text/html": [
              "\n",
              "  <div id=\"df-b20f83ba-517a-45c2-875f-1825f7ebf59a\">\n",
              "    <div class=\"colab-df-container\">\n",
              "      <div>\n",
              "<style scoped>\n",
              "    .dataframe tbody tr th:only-of-type {\n",
              "        vertical-align: middle;\n",
              "    }\n",
              "\n",
              "    .dataframe tbody tr th {\n",
              "        vertical-align: top;\n",
              "    }\n",
              "\n",
              "    .dataframe thead th {\n",
              "        text-align: right;\n",
              "    }\n",
              "</style>\n",
              "<table border=\"1\" class=\"dataframe\">\n",
              "  <thead>\n",
              "    <tr style=\"text-align: right;\">\n",
              "      <th></th>\n",
              "      <th>Feature</th>\n",
              "      <th>Accuracy</th>\n",
              "      <th>Discrimination</th>\n",
              "      <th>rel_acc</th>\n",
              "      <th>rel_disc</th>\n",
              "    </tr>\n",
              "  </thead>\n",
              "  <tbody>\n",
              "    <tr>\n",
              "      <th>0</th>\n",
              "      <td>age</td>\n",
              "      <td>2.972540</td>\n",
              "      <td>6.033005e+06</td>\n",
              "      <td>49.729851</td>\n",
              "      <td>30.432558</td>\n",
              "    </tr>\n",
              "    <tr>\n",
              "      <th>1</th>\n",
              "      <td>c_charge_degree</td>\n",
              "      <td>0.675193</td>\n",
              "      <td>3.177313e+06</td>\n",
              "      <td>11.295816</td>\n",
              "      <td>16.027462</td>\n",
              "    </tr>\n",
              "    <tr>\n",
              "      <th>2</th>\n",
              "      <td>sex</td>\n",
              "      <td>0.569750</td>\n",
              "      <td>2.770908e+06</td>\n",
              "      <td>9.531777</td>\n",
              "      <td>13.977417</td>\n",
              "    </tr>\n",
              "    <tr>\n",
              "      <th>3</th>\n",
              "      <td>length_of_stay</td>\n",
              "      <td>0.634509</td>\n",
              "      <td>3.482324e+06</td>\n",
              "      <td>10.615180</td>\n",
              "      <td>17.566042</td>\n",
              "    </tr>\n",
              "    <tr>\n",
              "      <th>4</th>\n",
              "      <td>has_juv</td>\n",
              "      <td>0.533954</td>\n",
              "      <td>1.609420e+06</td>\n",
              "      <td>8.932920</td>\n",
              "      <td>8.118469</td>\n",
              "    </tr>\n",
              "    <tr>\n",
              "      <th>5</th>\n",
              "      <td>has_prior</td>\n",
              "      <td>0.591429</td>\n",
              "      <td>2.751210e+06</td>\n",
              "      <td>9.894455</td>\n",
              "      <td>13.878052</td>\n",
              "    </tr>\n",
              "  </tbody>\n",
              "</table>\n",
              "</div>\n",
              "      <button class=\"colab-df-convert\" onclick=\"convertToInteractive('df-b20f83ba-517a-45c2-875f-1825f7ebf59a')\"\n",
              "              title=\"Convert this dataframe to an interactive table.\"\n",
              "              style=\"display:none;\">\n",
              "        \n",
              "  <svg xmlns=\"http://www.w3.org/2000/svg\" height=\"24px\"viewBox=\"0 0 24 24\"\n",
              "       width=\"24px\">\n",
              "    <path d=\"M0 0h24v24H0V0z\" fill=\"none\"/>\n",
              "    <path d=\"M18.56 5.44l.94 2.06.94-2.06 2.06-.94-2.06-.94-.94-2.06-.94 2.06-2.06.94zm-11 1L8.5 8.5l.94-2.06 2.06-.94-2.06-.94L8.5 2.5l-.94 2.06-2.06.94zm10 10l.94 2.06.94-2.06 2.06-.94-2.06-.94-.94-2.06-.94 2.06-2.06.94z\"/><path d=\"M17.41 7.96l-1.37-1.37c-.4-.4-.92-.59-1.43-.59-.52 0-1.04.2-1.43.59L10.3 9.45l-7.72 7.72c-.78.78-.78 2.05 0 2.83L4 21.41c.39.39.9.59 1.41.59.51 0 1.02-.2 1.41-.59l7.78-7.78 2.81-2.81c.8-.78.8-2.07 0-2.86zM5.41 20L4 18.59l7.72-7.72 1.47 1.35L5.41 20z\"/>\n",
              "  </svg>\n",
              "      </button>\n",
              "      \n",
              "  <style>\n",
              "    .colab-df-container {\n",
              "      display:flex;\n",
              "      flex-wrap:wrap;\n",
              "      gap: 12px;\n",
              "    }\n",
              "\n",
              "    .colab-df-convert {\n",
              "      background-color: #E8F0FE;\n",
              "      border: none;\n",
              "      border-radius: 50%;\n",
              "      cursor: pointer;\n",
              "      display: none;\n",
              "      fill: #1967D2;\n",
              "      height: 32px;\n",
              "      padding: 0 0 0 0;\n",
              "      width: 32px;\n",
              "    }\n",
              "\n",
              "    .colab-df-convert:hover {\n",
              "      background-color: #E2EBFA;\n",
              "      box-shadow: 0px 1px 2px rgba(60, 64, 67, 0.3), 0px 1px 3px 1px rgba(60, 64, 67, 0.15);\n",
              "      fill: #174EA6;\n",
              "    }\n",
              "\n",
              "    [theme=dark] .colab-df-convert {\n",
              "      background-color: #3B4455;\n",
              "      fill: #D2E3FC;\n",
              "    }\n",
              "\n",
              "    [theme=dark] .colab-df-convert:hover {\n",
              "      background-color: #434B5C;\n",
              "      box-shadow: 0px 1px 3px 1px rgba(0, 0, 0, 0.15);\n",
              "      filter: drop-shadow(0px 1px 2px rgba(0, 0, 0, 0.3));\n",
              "      fill: #FFFFFF;\n",
              "    }\n",
              "  </style>\n",
              "\n",
              "      <script>\n",
              "        const buttonEl =\n",
              "          document.querySelector('#df-b20f83ba-517a-45c2-875f-1825f7ebf59a button.colab-df-convert');\n",
              "        buttonEl.style.display =\n",
              "          google.colab.kernel.accessAllowed ? 'block' : 'none';\n",
              "\n",
              "        async function convertToInteractive(key) {\n",
              "          const element = document.querySelector('#df-b20f83ba-517a-45c2-875f-1825f7ebf59a');\n",
              "          const dataTable =\n",
              "            await google.colab.kernel.invokeFunction('convertToInteractive',\n",
              "                                                     [key], {});\n",
              "          if (!dataTable) return;\n",
              "\n",
              "          const docLinkHtml = 'Like what you see? Visit the ' +\n",
              "            '<a target=\"_blank\" href=https://colab.research.google.com/notebooks/data_table.ipynb>data table notebook</a>'\n",
              "            + ' to learn more about interactive tables.';\n",
              "          element.innerHTML = '';\n",
              "          dataTable['output_type'] = 'display_data';\n",
              "          await google.colab.output.renderOutput(dataTable, element);\n",
              "          const docLink = document.createElement('div');\n",
              "          docLink.innerHTML = docLinkHtml;\n",
              "          element.appendChild(docLink);\n",
              "        }\n",
              "      </script>\n",
              "    </div>\n",
              "  </div>\n",
              "  "
            ]
          },
          "metadata": {},
          "execution_count": 5
        }
      ]
    },
    {
      "cell_type": "code",
      "source": [
        "plt.scatter(scores['rel_disc'], scores['rel_acc'], color='orchid')\n",
        "plt.annotate('has_juv', (8, 10.5))\n",
        "plt.annotate('has_prior', (11, 11.5))\n",
        "plt.annotate('sex', (13, 7.5))\n",
        "plt.annotate('charge_deg', (16, 12.5))\n",
        "plt.annotate('len of stay', (17.7, 8.5))\n",
        "plt.annotate('age', (29, 47.5))\n",
        "plt.title('Feature Shapley Discrimination v. Accuracy')\n",
        "plt.xlabel('Shapley Discrimination')\n",
        "plt.ylabel('Shapley Accuracy')"
      ],
      "metadata": {
        "colab": {
          "base_uri": "https://localhost:8080/",
          "height": 312
        },
        "id": "ZA-1EbSwRKpO",
        "outputId": "ce29d268-deb8-4276-975f-201f0af6d78f"
      },
      "execution_count": null,
      "outputs": [
        {
          "output_type": "execute_result",
          "data": {
            "text/plain": [
              "Text(0, 0.5, 'Shapley Accuracy')"
            ]
          },
          "metadata": {},
          "execution_count": 105
        },
        {
          "output_type": "display_data",
          "data": {
            "text/plain": [
              "<Figure size 432x288 with 1 Axes>"
            ],
            "image/png": "[encoded data removed]"
          },
          "metadata": {
            "needs_background": "light"
          }
        }
      ]
    },
    {
      "cell_type": "markdown",
      "source": [
        "## Step 3. Experiments"
      ],
      "metadata": {
        "id": "nG81-fz4FK2d"
      }
    },
    {
      "cell_type": "code",
      "source": [
        "def FPR(fp, tn):\n",
        "  return fp / (fp + tn)\n",
        "\n",
        "def calibration(tn, fp, fn, tp):\n",
        "  return (tn+tp) / (tn+fp+fn+tp)\n",
        "\n",
        "def bias_exp(X, y, protected, exp_num=5):\n",
        "  full = X.assign(race = protected)\n",
        "  FPR_black = []\n",
        "  FPR_white = []\n",
        "  cal_black = []\n",
        "  cal_white = []\n",
        "\n",
        "  for i in range(exp_num):\n",
        "\n",
        "    X_train, X_test, y_train, y_test = train_test_split(full, y, test_size=0.2, random_state=i*5)\n",
        "    X_train = X_train.drop('race', axis=1)\n",
        "    model = GradientBoostingClassifier(n_estimators=80, learning_rate=0.25, max_depth=1, max_features=5, random_state=0)\n",
        "    model.fit(X_train, y_train)\n",
        "\n",
        "    data = X_test.assign(two_year_recid = y_test)\n",
        "    data_black = data[data['race']==0]\n",
        "    data_white = data[data['race']==1]\n",
        "\n",
        "    y_pred_black = model.predict(data_black.drop(['race', 'two_year_recid'], axis=1))\n",
        "    y_pred_white = model.predict(data_white.drop(['race', 'two_year_recid'], axis=1))\n",
        "\n",
        "    # black\n",
        "    tn, fp, fn, tp = confusion_matrix(data_black['two_year_recid'], \n",
        "                                      y_pred_black).ravel()\n",
        "    black_fpr = FPR(fp, tn)\n",
        "    FPR_black.append(black_fpr)\n",
        "    black_cal = calibration(tn, fp, fn, tp)\n",
        "    cal_black.append(black_cal)\n",
        "    # white\n",
        "    tn, fp, fn, tp = confusion_matrix(data_white['two_year_recid'], \n",
        "                                      y_pred_white).ravel()\n",
        "    white_fpr = FPR(fp, tn)\n",
        "    FPR_white.append(white_fpr)\n",
        "    white_cal = calibration(tn, fp, fn, tp)\n",
        "    cal_white.append(white_cal)\n",
        "\n",
        "  return cal_black, cal_white, FPR_black, FPR_white"
      ],
      "metadata": {
        "id": "evV6k6RymR3G"
      },
      "execution_count": null,
      "outputs": []
    },
    {
      "cell_type": "code",
      "source": [
        "model = GradientBoostingClassifier(n_estimators=80, learning_rate=0.25, max_depth=1, max_features=5, random_state=0)\n",
        "exp_df = pd.DataFrame(columns=['Experiment', 'Accuracy (mean)', 'Accuracy (std)', \n",
        "                               'Black Cal', 'White Cal', 'Black FPR', 'White FPR'])\n",
        "\n",
        "# all features first\n",
        "n_scores = cross_val_score(model, X, y, scoring='accuracy', cv=5, n_jobs=-1, error_score='raise')\n",
        "black_cal, white_cal, black_fpr, white_fpr = bias_exp(X, y, protected)\n",
        "exp_df.loc[len(exp_df.index)] = [\"none\", np.mean(n_scores), np.std(n_scores),\n",
        "                                 np.mean(black_cal), np.mean(white_cal),\n",
        "                                 np.mean(black_fpr), np.mean(white_fpr)]\n",
        "\n",
        "# drop one feature\n",
        "for feat in X.columns:\n",
        "  X_drop = X.drop(feat, axis=1)\n",
        "  n_scores = cross_val_score(model, X_drop, y, scoring='accuracy', cv=5, n_jobs=-1, error_score='raise')\n",
        "  black_cal, white_cal, black_fpr, white_fpr = bias_exp(X_drop, y, protected)\n",
        "  exp_df.loc[len(exp_df.index)] = [feat, np.mean(n_scores), np.std(n_scores),\n",
        "                                   np.mean(black_cal), np.mean(white_cal),\n",
        "                                  np.mean(black_fpr), np.mean(white_fpr)]\n",
        "\n",
        "exp_df"
      ],
      "metadata": {
        "colab": {
          "base_uri": "https://localhost:8080/",
          "height": 269
        },
        "id": "xB-0tGFvLWo4",
        "outputId": "b80e7de7-d696-4b0b-bc00-f4425e5fd386"
      },
      "execution_count": null,
      "outputs": [
        {
          "output_type": "execute_result",
          "data": {
            "text/plain": [
              "        Experiment  Accuracy (mean)  Accuracy (std)  Black Cal  White Cal  \\\n",
              "0             none         0.655360        0.010137   0.670557   0.652635   \n",
              "1              age         0.626755        0.011313   0.638697   0.624805   \n",
              "2  c_charge_degree         0.655359        0.011145   0.673453   0.654490   \n",
              "3              sex         0.650626        0.012602   0.663799   0.653122   \n",
              "4   length_of_stay         0.643991        0.011733   0.661915   0.641100   \n",
              "5          has_juv         0.647781        0.013336   0.660886   0.647391   \n",
              "6        has_prior         0.620118        0.010259   0.633454   0.637007   \n",
              "\n",
              "   Black FPR  White FPR  \n",
              "0   0.365808   0.240324  \n",
              "1   0.402500   0.334524  \n",
              "2   0.343827   0.235020  \n",
              "3   0.378425   0.252826  \n",
              "4   0.356136   0.224992  \n",
              "5   0.370419   0.252574  \n",
              "6   0.329997   0.240527  "
            ],
            "text/html": [
              "\n",
              "  <div id=\"df-c031c938-20a1-46f7-a652-33129699694e\">\n",
              "    <div class=\"colab-df-container\">\n",
              "      <div>\n",
              "<style scoped>\n",
              "    .dataframe tbody tr th:only-of-type {\n",
              "        vertical-align: middle;\n",
              "    }\n",
              "\n",
              "    .dataframe tbody tr th {\n",
              "        vertical-align: top;\n",
              "    }\n",
              "\n",
              "    .dataframe thead th {\n",
              "        text-align: right;\n",
              "    }\n",
              "</style>\n",
              "<table border=\"1\" class=\"dataframe\">\n",
              "  <thead>\n",
              "    <tr style=\"text-align: right;\">\n",
              "      <th></th>\n",
              "      <th>Experiment</th>\n",
              "      <th>Accuracy (mean)</th>\n",
              "      <th>Accuracy (std)</th>\n",
              "      <th>Black Cal</th>\n",
              "      <th>White Cal</th>\n",
              "      <th>Black FPR</th>\n",
              "      <th>White FPR</th>\n",
              "    </tr>\n",
              "  </thead>\n",
              "  <tbody>\n",
              "    <tr>\n",
              "      <th>0</th>\n",
              "      <td>none</td>\n",
              "      <td>0.655360</td>\n",
              "      <td>0.010137</td>\n",
              "      <td>0.670557</td>\n",
              "      <td>0.652635</td>\n",
              "      <td>0.365808</td>\n",
              "      <td>0.240324</td>\n",
              "    </tr>\n",
              "    <tr>\n",
              "      <th>1</th>\n",
              "      <td>age</td>\n",
              "      <td>0.626755</td>\n",
              "      <td>0.011313</td>\n",
              "      <td>0.638697</td>\n",
              "      <td>0.624805</td>\n",
              "      <td>0.402500</td>\n",
              "      <td>0.334524</td>\n",
              "    </tr>\n",
              "    <tr>\n",
              "      <th>2</th>\n",
              "      <td>c_charge_degree</td>\n",
              "      <td>0.655359</td>\n",
              "      <td>0.011145</td>\n",
              "      <td>0.673453</td>\n",
              "      <td>0.654490</td>\n",
              "      <td>0.343827</td>\n",
              "      <td>0.235020</td>\n",
              "    </tr>\n",
              "    <tr>\n",
              "      <th>3</th>\n",
              "      <td>sex</td>\n",
              "      <td>0.650626</td>\n",
              "      <td>0.012602</td>\n",
              "      <td>0.663799</td>\n",
              "      <td>0.653122</td>\n",
              "      <td>0.378425</td>\n",
              "      <td>0.252826</td>\n",
              "    </tr>\n",
              "    <tr>\n",
              "      <th>4</th>\n",
              "      <td>length_of_stay</td>\n",
              "      <td>0.643991</td>\n",
              "      <td>0.011733</td>\n",
              "      <td>0.661915</td>\n",
              "      <td>0.641100</td>\n",
              "      <td>0.356136</td>\n",
              "      <td>0.224992</td>\n",
              "    </tr>\n",
              "    <tr>\n",
              "      <th>5</th>\n",
              "      <td>has_juv</td>\n",
              "      <td>0.647781</td>\n",
              "      <td>0.013336</td>\n",
              "      <td>0.660886</td>\n",
              "      <td>0.647391</td>\n",
              "      <td>0.370419</td>\n",
              "      <td>0.252574</td>\n",
              "    </tr>\n",
              "    <tr>\n",
              "      <th>6</th>\n",
              "      <td>has_prior</td>\n",
              "      <td>0.620118</td>\n",
              "      <td>0.010259</td>\n",
              "      <td>0.633454</td>\n",
              "      <td>0.637007</td>\n",
              "      <td>0.329997</td>\n",
              "      <td>0.240527</td>\n",
              "    </tr>\n",
              "  </tbody>\n",
              "</table>\n",
              "</div>\n",
              "      <button class=\"colab-df-convert\" onclick=\"convertToInteractive('df-c031c938-20a1-46f7-a652-33129699694e')\"\n",
              "              title=\"Convert this dataframe to an interactive table.\"\n",
              "              style=\"display:none;\">\n",
              "        \n",
              "  <svg xmlns=\"http://www.w3.org/2000/svg\" height=\"24px\"viewBox=\"0 0 24 24\"\n",
              "       width=\"24px\">\n",
              "    <path d=\"M0 0h24v24H0V0z\" fill=\"none\"/>\n",
              "    <path d=\"M18.56 5.44l.94 2.06.94-2.06 2.06-.94-2.06-.94-.94-2.06-.94 2.06-2.06.94zm-11 1L8.5 8.5l.94-2.06 2.06-.94-2.06-.94L8.5 2.5l-.94 2.06-2.06.94zm10 10l.94 2.06.94-2.06 2.06-.94-2.06-.94-.94-2.06-.94 2.06-2.06.94z\"/><path d=\"M17.41 7.96l-1.37-1.37c-.4-.4-.92-.59-1.43-.59-.52 0-1.04.2-1.43.59L10.3 9.45l-7.72 7.72c-.78.78-.78 2.05 0 2.83L4 21.41c.39.39.9.59 1.41.59.51 0 1.02-.2 1.41-.59l7.78-7.78 2.81-2.81c.8-.78.8-2.07 0-2.86zM5.41 20L4 18.59l7.72-7.72 1.47 1.35L5.41 20z\"/>\n",
              "  </svg>\n",
              "      </button>\n",
              "      \n",
              "  <style>\n",
              "    .colab-df-container {\n",
              "      display:flex;\n",
              "      flex-wrap:wrap;\n",
              "      gap: 12px;\n",
              "    }\n",
              "\n",
              "    .colab-df-convert {\n",
              "      background-color: #E8F0FE;\n",
              "      border: none;\n",
              "      border-radius: 50%;\n",
              "      cursor: pointer;\n",
              "      display: none;\n",
              "      fill: #1967D2;\n",
              "      height: 32px;\n",
              "      padding: 0 0 0 0;\n",
              "      width: 32px;\n",
              "    }\n",
              "\n",
              "    .colab-df-convert:hover {\n",
              "      background-color: #E2EBFA;\n",
              "      box-shadow: 0px 1px 2px rgba(60, 64, 67, 0.3), 0px 1px 3px 1px rgba(60, 64, 67, 0.15);\n",
              "      fill: #174EA6;\n",
              "    }\n",
              "\n",
              "    [theme=dark] .colab-df-convert {\n",
              "      background-color: #3B4455;\n",
              "      fill: #D2E3FC;\n",
              "    }\n",
              "\n",
              "    [theme=dark] .colab-df-convert:hover {\n",
              "      background-color: #434B5C;\n",
              "      box-shadow: 0px 1px 3px 1px rgba(0, 0, 0, 0.15);\n",
              "      filter: drop-shadow(0px 1px 2px rgba(0, 0, 0, 0.3));\n",
              "      fill: #FFFFFF;\n",
              "    }\n",
              "  </style>\n",
              "\n",
              "      <script>\n",
              "        const buttonEl =\n",
              "          document.querySelector('#df-c031c938-20a1-46f7-a652-33129699694e button.colab-df-convert');\n",
              "        buttonEl.style.display =\n",
              "          google.colab.kernel.accessAllowed ? 'block' : 'none';\n",
              "\n",
              "        async function convertToInteractive(key) {\n",
              "          const element = document.querySelector('#df-c031c938-20a1-46f7-a652-33129699694e');\n",
              "          const dataTable =\n",
              "            await google.colab.kernel.invokeFunction('convertToInteractive',\n",
              "                                                     [key], {});\n",
              "          if (!dataTable) return;\n",
              "\n",
              "          const docLinkHtml = 'Like what you see? Visit the ' +\n",
              "            '<a target=\"_blank\" href=https://colab.research.google.com/notebooks/data_table.ipynb>data table notebook</a>'\n",
              "            + ' to learn more about interactive tables.';\n",
              "          element.innerHTML = '';\n",
              "          dataTable['output_type'] = 'display_data';\n",
              "          await google.colab.output.renderOutput(dataTable, element);\n",
              "          const docLink = document.createElement('div');\n",
              "          docLink.innerHTML = docLinkHtml;\n",
              "          element.appendChild(docLink);\n",
              "        }\n",
              "      </script>\n",
              "    </div>\n",
              "  </div>\n",
              "  "
            ]
          },
          "metadata": {},
          "execution_count": 8
        }
      ]
    },
    {
      "cell_type": "code",
      "source": [
        "plt.scatter(exp_df['Experiment'], exp_df['Accuracy (mean)']) \n",
        "plt.errorbar(exp_df['Experiment'], exp_df['Accuracy (mean)'], yerr=exp_df['Accuracy (std)'], fmt=\"o\")\n",
        "\n",
        "plt.title('Accuracies after dropping one feature')\n",
        "plt.ylabel('Accuracy')\n",
        "plt.xlabel('Features dropped')\n",
        "plt.xticks(rotation=45, ha=\"right\")\n",
        "plt.show()"
      ],
      "metadata": {
        "colab": {
          "base_uri": "https://localhost:8080/",
          "height": 353
        },
        "id": "_KgpUGp9H7zZ",
        "outputId": "e3ef154d-1bb6-4a0f-c06c-76ac1a1ae2b0"
      },
      "execution_count": null,
      "outputs": [
        {
          "output_type": "display_data",
          "data": {
            "text/plain": [
              "<Figure size 432x288 with 1 Axes>"
            ],
            "image/png": "[encoded data removed]"
          },
          "metadata": {
            "needs_background": "light"
          }
        }
      ]
    },
    {
      "cell_type": "code",
      "source": [
        "# calibration\n",
        "\n",
        "labels = list(exp_df['Experiment'])\n",
        "x = np.arange(len(exp_df['Experiment']))  # the label locations\n",
        "width = 0.35  # the width of the bars\n",
        "\n",
        "fig, ax = plt.subplots()\n",
        "rects1 = ax.bar(x - width/2, exp_df['Black Cal'], width, label='African-American', color='lightcoral')\n",
        "rects2 = ax.bar(x + width/2, exp_df['White Cal'], width, label='Caucasian', color='lightskyblue')\n",
        "\n",
        "# Add some text for labels, title and custom x-axis tick labels, etc.\n",
        "ax.set_ylabel('Calibration')\n",
        "ax.set_xlabel('Features dropped')\n",
        "ax.set_title('Calibration: African-American v. Caucasian')\n",
        "ax.set_xticks(x)\n",
        "ax.set_xticklabels(labels, rotation=45, ha=\"right\")\n",
        "ax.legend(loc='center left', bbox_to_anchor=(1, 0.8))\n",
        "\n",
        "#fig.tight_layout()\n",
        "\n",
        "plt.show()"
      ],
      "metadata": {
        "colab": {
          "base_uri": "https://localhost:8080/",
          "height": 353
        },
        "id": "4Pl3ggx-ULPR",
        "outputId": "a9fb3a5c-8843-4468-f7b6-85aa5baa9a67"
      },
      "execution_count": null,
      "outputs": [
        {
          "output_type": "display_data",
          "data": {
            "text/plain": [
              "<Figure size 432x288 with 1 Axes>"
            ],
            "image/png": "[encoded data removed]"
          },
          "metadata": {
            "needs_background": "light"
          }
        }
      ]
    },
    {
      "cell_type": "code",
      "source": [
        "# FPR\n",
        "\n",
        "labels = list(exp_df['Experiment'])\n",
        "x = np.arange(len(exp_df['Experiment']))  # the label locations\n",
        "width = 0.35  # the width of the bars\n",
        "\n",
        "fig, ax = plt.subplots()\n",
        "rects1 = ax.bar(x - width/2, exp_df['Black FPR'], width, label='African-American', color='lightcoral')\n",
        "rects2 = ax.bar(x + width/2, exp_df['White FPR'], width, label='Caucasian', color='lightskyblue')\n",
        "\n",
        "# Add some text for labels, title and custom x-axis tick labels, etc.\n",
        "ax.set_ylabel('False Positive Rate')\n",
        "ax.set_xlabel('Features dropped')\n",
        "ax.set_title('FPR: African-American v. Caucasian')\n",
        "ax.set_xticks(x)\n",
        "ax.set_xticklabels(labels, rotation=45, ha=\"right\")\n",
        "ax.legend(loc='center left', bbox_to_anchor=(1, 0.8))\n",
        "\n",
        "#fig.tight_layout()\n",
        "\n",
        "plt.show()"
      ],
      "metadata": {
        "colab": {
          "base_uri": "https://localhost:8080/",
          "height": 353
        },
        "id": "tlo4vGhKyV7e",
        "outputId": "47d6d5e8-5fbe-40c9-8517-dc0f19831683"
      },
      "execution_count": null,
      "outputs": [
        {
          "output_type": "display_data",
          "data": {
            "text/plain": [
              "<Figure size 432x288 with 1 Axes>"
            ],
            "image/png": "[encoded data removed]"
          },
          "metadata": {
            "needs_background": "light"
          }
        }
      ]
    },
    {
      "cell_type": "code",
      "source": [
        "plt.bar(exp_df['Experiment'], exp_df['Black FPR'] - exp_df['White FPR'], color='thistle')\n",
        "plt.title('FPR difference')\n",
        "plt.xlabel('Features dropped')\n",
        "plt.ylabel('False Positive Rate Diff')\n",
        "plt.xticks(rotation=45, ha=\"right\")\n",
        "plt.show()"
      ],
      "metadata": {
        "colab": {
          "base_uri": "https://localhost:8080/",
          "height": 353
        },
        "id": "YT712JWHzGBG",
        "outputId": "79836c8b-a272-4bf7-8010-7ce778c76a5b"
      },
      "execution_count": null,
      "outputs": [
        {
          "output_type": "display_data",
          "data": {
            "text/plain": [
              "<Figure size 432x288 with 1 Axes>"
            ],
            "image/png": "[encoded data removed]"
          },
          "metadata": {
            "needs_background": "light"
          }
        }
      ]
    },
    {
      "cell_type": "markdown",
      "source": [
        "## Step 4. Including race as a feature for benchmarking"
      ],
      "metadata": {
        "id": "PK-T1WoZ-W4b"
      }
    },
    {
      "cell_type": "code",
      "source": [
        "X = compas[['age', 'c_charge_degree', 'sex', 'race', 'length_of_stay', \n",
        "            'has_juv', 'has_prior']]\n",
        "y = compas['two_year_recid']"
      ],
      "metadata": {
        "id": "nfnC5Gmk-uBc"
      },
      "execution_count": null,
      "outputs": []
    },
    {
      "cell_type": "code",
      "source": [
        "# feature correlation\n",
        "plt.figure(figsize=(12,10))\n",
        "cor = X.corr()\n",
        "sns.heatmap(cor, annot=True, cmap=plt.cm.Reds)\n",
        "plt.show()"
      ],
      "metadata": {
        "colab": {
          "base_uri": "https://localhost:8080/",
          "height": 596
        },
        "id": "37qQkXbfFtH0",
        "outputId": "e1ca0dbb-50b7-41c0-dcb9-7b56f0b6d1f1"
      },
      "execution_count": null,
      "outputs": [
        {
          "output_type": "display_data",
          "data": {
            "text/plain": [
              "<Figure size 864x720 with 2 Axes>"
            ],
            "image/png": "[encoded data removed]"
          },
          "metadata": {
            "needs_background": "light"
          }
        }
      ]
    },
    {
      "cell_type": "code",
      "source": [
        "model = GradientBoostingClassifier(n_estimators=80, learning_rate=0.25, max_depth=1, max_features=5, random_state=0)\n",
        "\n",
        "# all features first\n",
        "n_scores = cross_val_score(model, X, y, scoring='accuracy', cv=5, n_jobs=-1, error_score='raise')\n",
        "print(\"Accuracy:\", np.mean(n_scores))\n",
        "print(\"Std:\", np.std(n_scores))"
      ],
      "metadata": {
        "colab": {
          "base_uri": "https://localhost:8080/"
        },
        "id": "YY6a9KZx-aJN",
        "outputId": "f2c9999e-16ab-414a-8dc9-1e9ae53c378a"
      },
      "execution_count": null,
      "outputs": [
        {
          "output_type": "stream",
          "name": "stdout",
          "text": [
            "Accuracy: 0.656496301881373\n",
            "Std: 0.013633703748875965\n"
          ]
        }
      ]
    },
    {
      "cell_type": "code",
      "source": [
        "FPR_black = []\n",
        "FPR_white = []\n",
        "cal_black = []\n",
        "cal_white = []\n",
        "\n",
        "for i in range(5):\n",
        "\n",
        "  X_train, X_test, y_train, y_test = train_test_split(X, y, test_size=0.2, random_state=i*5)\n",
        "  model = GradientBoostingClassifier(n_estimators=80, learning_rate=0.25, max_depth=1, max_features=5, random_state=0)\n",
        "  model.fit(X_train, y_train)\n",
        "\n",
        "  data = X_test.assign(two_year_recid = y_test)\n",
        "  data_black = data[data['race']==0]\n",
        "  data_white = data[data['race']==1]\n",
        "\n",
        "  y_pred_black = model.predict(data_black.drop(['two_year_recid'], axis=1))\n",
        "  y_pred_white = model.predict(data_white.drop(['two_year_recid'], axis=1))\n",
        "\n",
        "  # black\n",
        "  tn, fp, fn, tp = confusion_matrix(data_black['two_year_recid'], \n",
        "                                    y_pred_black).ravel()\n",
        "  black_fpr = FPR(fp, tn)\n",
        "  FPR_black.append(black_fpr)\n",
        "  black_cal = calibration(tn, fp, fn, tp)\n",
        "  cal_black.append(black_cal)\n",
        "\n",
        "  # white\n",
        "  tn, fp, fn, tp = confusion_matrix(data_white['two_year_recid'], \n",
        "                                    y_pred_white).ravel()\n",
        "  white_fpr = FPR(fp, tn)\n",
        "  FPR_white.append(white_fpr)\n",
        "  white_cal = calibration(tn, fp, fn, tp)\n",
        "  cal_white.append(white_cal)\n",
        "\n",
        "print(\"Black cal:\", np.mean(cal_black))\n",
        "print(\"White cal:\", np.mean(cal_white))\n",
        "print(\"Black FPR:\", np.mean(FPR_black))\n",
        "print(\"White FPR:\", np.mean(FPR_white))"
      ],
      "metadata": {
        "colab": {
          "base_uri": "https://localhost:8080/"
        },
        "id": "INffWxsv_Kfj",
        "outputId": "4a478949-37fa-4835-9c60-eb0d8b19a86e"
      },
      "execution_count": null,
      "outputs": [
        {
          "output_type": "stream",
          "name": "stdout",
          "text": [
            "Black cal: 0.6687421995868552\n",
            "White cal: 0.6643325693957113\n",
            "Black FPR: 0.3967150351876634\n",
            "White FPR: 0.18507672266766134\n"
          ]
        }
      ]
    }
  ]
}