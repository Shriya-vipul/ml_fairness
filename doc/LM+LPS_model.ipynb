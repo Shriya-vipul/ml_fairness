{
  "nbformat": 4,
  "nbformat_minor": 0,
  "metadata": {
    "colab": {
      "name": "LM+LPS model.ipynb",
      "provenance": [],
      "collapsed_sections": []
    },
    "kernelspec": {
      "name": "python3",
      "display_name": "Python 3"
    },
    "language_info": {
      "name": "python"
    }
  },
  "cells": [
    {
      "cell_type": "markdown",
      "source": [
        "# Data Preprocessing"
      ],
      "metadata": {
        "id": "W2GQaMSo5FgT"
      }
    },
    {
      "cell_type": "code",
      "execution_count": 52,
      "metadata": {
        "id": "YvhfSPbf6cJE"
      },
      "outputs": [],
      "source": [
        "import numpy as np\n",
        "import matplotlib.pyplot as plt\n",
        "import pandas as pd\n",
        "import seaborn as sns\n",
        "import os\n",
        "\n",
        "from sklearn.metrics import classification_report\n",
        "from sklearn.metrics import confusion_matrix\n",
        "from mlxtend.plotting import plot_confusion_matrix\n",
        "from sklearn.metrics import ConfusionMatrixDisplay, precision_score, recall_score, accuracy_score, f1_score\n",
        "from sklearn.model_selection import cross_val_score, GridSearchCV, train_test_split, StratifiedKFold, RepeatedStratifiedKFold\n",
        "\n",
        "from sklearn.model_selection import train_test_split\n",
        "from sklearn.ensemble import GradientBoostingClassifier"
      ]
    },
    {
      "cell_type": "code",
      "source": [
        "# mount gdrive\n",
        "from google.colab import drive\n",
        "drive.mount('/gdrive')"
      ],
      "metadata": {
        "colab": {
          "base_uri": "https://localhost:8080/"
        },
        "id": "lVYDFzn46g0k",
        "outputId": "c5074d62-35fa-4170-ef6c-46806a1c083e"
      },
      "execution_count": 2,
      "outputs": [
        {
          "output_type": "stream",
          "name": "stdout",
          "text": [
            "Mounted at /gdrive\n"
          ]
        }
      ]
    },
    {
      "cell_type": "code",
      "source": [
        "# change root to the necessary path\n",
        "root = \"/gdrive/MyDrive/ads_proj4/ads-spring-2022-prj4-group-11-1/\"\n",
        "outputs_dir = root + \"output/\""
      ],
      "metadata": {
        "id": "mGzIuWeT6lbF"
      },
      "execution_count": 3,
      "outputs": []
    },
    {
      "cell_type": "code",
      "source": [
        "assert os.path.exists(root), 'Check the path to your root directory'\n",
        "assert os.path.exists(outputs_dir), 'Check the path to your outputs directory'"
      ],
      "metadata": {
        "id": "ZxXHypoS6nYP"
      },
      "execution_count": 4,
      "outputs": []
    },
    {
      "cell_type": "code",
      "source": [
        "data = pd.read_csv(outputs_dir + 'ffs_data_v3.csv', header=0,\n",
        "                     dtype = {'age_cat': int,'race': int,\n",
        "                              'priors_count': int,'length_of_stay': int})"
      ],
      "metadata": {
        "id": "pAdbZnLZ7bSN"
      },
      "execution_count": 5,
      "outputs": []
    },
    {
      "cell_type": "code",
      "source": [
        "dummy_data = data.copy()\n",
        "dummy_data['sex'] = (dummy_data['sex'].values == 'Male').astype(int) # 1 if male, 0 if female\n",
        "dummy_data['c_charge_degree'] = (dummy_data['c_charge_degree'].values == 'F').astype(int) # 1 if felony, 0 if misdemeanor\n",
        "dummy_data[['age', 'race', 'priors_count', 'length_of_stay']] = dummy_data[['age', 'race', 'priors_count', 'length_of_stay']].astype(int)\n",
        "\n",
        "juv_cond = (dummy_data['juv_fel_count'] > 0) | (dummy_data['juv_misd_count'] > 0) | (dummy_data['juv_other_count'] > 0)\n",
        "dummy_data['has_juv'] = np.where(juv_cond, 1, 0)\n",
        "dummy_data['has_prior'] = np.where(dummy_data['priors_count'] > 0, 1, 0)\n",
        "#race[0:African-American,1:Caucasian]\n",
        "dummy_data.head()"
      ],
      "metadata": {
        "id": "uL7-YFfSGpoM",
        "colab": {
          "base_uri": "https://localhost:8080/",
          "height": 250
        },
        "outputId": "805465a1-94e9-4365-9944-8c39cd471d5c"
      },
      "execution_count": 6,
      "outputs": [
        {
          "output_type": "execute_result",
          "data": {
            "text/plain": [
              "   age  c_charge_degree  race  sex  priors_count  length_of_stay  \\\n",
              "0   34                1     0    1             0               1   \n",
              "1   24                1     0    1             2               0   \n",
              "2   41                1     1    1             2               0   \n",
              "3   39                0     1    0             0               0   \n",
              "4   27                1     1    1             0               0   \n",
              "\n",
              "   two_year_recid  juv_fel_count  juv_misd_count  juv_other_count  has_juv  \\\n",
              "0               1              0               0                0        0   \n",
              "1               1              0               0                1        1   \n",
              "2               1              0               0                0        0   \n",
              "3               0              0               0                0        0   \n",
              "4               0              0               0                0        0   \n",
              "\n",
              "   has_prior  \n",
              "0          0  \n",
              "1          1  \n",
              "2          1  \n",
              "3          0  \n",
              "4          0  "
            ],
            "text/html": [
              "\n",
              "  <div id=\"df-5725242d-66bd-4f26-bf26-d1f3f36a9249\">\n",
              "    <div class=\"colab-df-container\">\n",
              "      <div>\n",
              "<style scoped>\n",
              "    .dataframe tbody tr th:only-of-type {\n",
              "        vertical-align: middle;\n",
              "    }\n",
              "\n",
              "    .dataframe tbody tr th {\n",
              "        vertical-align: top;\n",
              "    }\n",
              "\n",
              "    .dataframe thead th {\n",
              "        text-align: right;\n",
              "    }\n",
              "</style>\n",
              "<table border=\"1\" class=\"dataframe\">\n",
              "  <thead>\n",
              "    <tr style=\"text-align: right;\">\n",
              "      <th></th>\n",
              "      <th>age</th>\n",
              "      <th>c_charge_degree</th>\n",
              "      <th>race</th>\n",
              "      <th>sex</th>\n",
              "      <th>priors_count</th>\n",
              "      <th>length_of_stay</th>\n",
              "      <th>two_year_recid</th>\n",
              "      <th>juv_fel_count</th>\n",
              "      <th>juv_misd_count</th>\n",
              "      <th>juv_other_count</th>\n",
              "      <th>has_juv</th>\n",
              "      <th>has_prior</th>\n",
              "    </tr>\n",
              "  </thead>\n",
              "  <tbody>\n",
              "    <tr>\n",
              "      <th>0</th>\n",
              "      <td>34</td>\n",
              "      <td>1</td>\n",
              "      <td>0</td>\n",
              "      <td>1</td>\n",
              "      <td>0</td>\n",
              "      <td>1</td>\n",
              "      <td>1</td>\n",
              "      <td>0</td>\n",
              "      <td>0</td>\n",
              "      <td>0</td>\n",
              "      <td>0</td>\n",
              "      <td>0</td>\n",
              "    </tr>\n",
              "    <tr>\n",
              "      <th>1</th>\n",
              "      <td>24</td>\n",
              "      <td>1</td>\n",
              "      <td>0</td>\n",
              "      <td>1</td>\n",
              "      <td>2</td>\n",
              "      <td>0</td>\n",
              "      <td>1</td>\n",
              "      <td>0</td>\n",
              "      <td>0</td>\n",
              "      <td>1</td>\n",
              "      <td>1</td>\n",
              "      <td>1</td>\n",
              "    </tr>\n",
              "    <tr>\n",
              "      <th>2</th>\n",
              "      <td>41</td>\n",
              "      <td>1</td>\n",
              "      <td>1</td>\n",
              "      <td>1</td>\n",
              "      <td>2</td>\n",
              "      <td>0</td>\n",
              "      <td>1</td>\n",
              "      <td>0</td>\n",
              "      <td>0</td>\n",
              "      <td>0</td>\n",
              "      <td>0</td>\n",
              "      <td>1</td>\n",
              "    </tr>\n",
              "    <tr>\n",
              "      <th>3</th>\n",
              "      <td>39</td>\n",
              "      <td>0</td>\n",
              "      <td>1</td>\n",
              "      <td>0</td>\n",
              "      <td>0</td>\n",
              "      <td>0</td>\n",
              "      <td>0</td>\n",
              "      <td>0</td>\n",
              "      <td>0</td>\n",
              "      <td>0</td>\n",
              "      <td>0</td>\n",
              "      <td>0</td>\n",
              "    </tr>\n",
              "    <tr>\n",
              "      <th>4</th>\n",
              "      <td>27</td>\n",
              "      <td>1</td>\n",
              "      <td>1</td>\n",
              "      <td>1</td>\n",
              "      <td>0</td>\n",
              "      <td>0</td>\n",
              "      <td>0</td>\n",
              "      <td>0</td>\n",
              "      <td>0</td>\n",
              "      <td>0</td>\n",
              "      <td>0</td>\n",
              "      <td>0</td>\n",
              "    </tr>\n",
              "  </tbody>\n",
              "</table>\n",
              "</div>\n",
              "      <button class=\"colab-df-convert\" onclick=\"convertToInteractive('df-5725242d-66bd-4f26-bf26-d1f3f36a9249')\"\n",
              "              title=\"Convert this dataframe to an interactive table.\"\n",
              "              style=\"display:none;\">\n",
              "        \n",
              "  <svg xmlns=\"http://www.w3.org/2000/svg\" height=\"24px\"viewBox=\"0 0 24 24\"\n",
              "       width=\"24px\">\n",
              "    <path d=\"M0 0h24v24H0V0z\" fill=\"none\"/>\n",
              "    <path d=\"M18.56 5.44l.94 2.06.94-2.06 2.06-.94-2.06-.94-.94-2.06-.94 2.06-2.06.94zm-11 1L8.5 8.5l.94-2.06 2.06-.94-2.06-.94L8.5 2.5l-.94 2.06-2.06.94zm10 10l.94 2.06.94-2.06 2.06-.94-2.06-.94-.94-2.06-.94 2.06-2.06.94z\"/><path d=\"M17.41 7.96l-1.37-1.37c-.4-.4-.92-.59-1.43-.59-.52 0-1.04.2-1.43.59L10.3 9.45l-7.72 7.72c-.78.78-.78 2.05 0 2.83L4 21.41c.39.39.9.59 1.41.59.51 0 1.02-.2 1.41-.59l7.78-7.78 2.81-2.81c.8-.78.8-2.07 0-2.86zM5.41 20L4 18.59l7.72-7.72 1.47 1.35L5.41 20z\"/>\n",
              "  </svg>\n",
              "      </button>\n",
              "      \n",
              "  <style>\n",
              "    .colab-df-container {\n",
              "      display:flex;\n",
              "      flex-wrap:wrap;\n",
              "      gap: 12px;\n",
              "    }\n",
              "\n",
              "    .colab-df-convert {\n",
              "      background-color: #E8F0FE;\n",
              "      border: none;\n",
              "      border-radius: 50%;\n",
              "      cursor: pointer;\n",
              "      display: none;\n",
              "      fill: #1967D2;\n",
              "      height: 32px;\n",
              "      padding: 0 0 0 0;\n",
              "      width: 32px;\n",
              "    }\n",
              "\n",
              "    .colab-df-convert:hover {\n",
              "      background-color: #E2EBFA;\n",
              "      box-shadow: 0px 1px 2px rgba(60, 64, 67, 0.3), 0px 1px 3px 1px rgba(60, 64, 67, 0.15);\n",
              "      fill: #174EA6;\n",
              "    }\n",
              "\n",
              "    [theme=dark] .colab-df-convert {\n",
              "      background-color: #3B4455;\n",
              "      fill: #D2E3FC;\n",
              "    }\n",
              "\n",
              "    [theme=dark] .colab-df-convert:hover {\n",
              "      background-color: #434B5C;\n",
              "      box-shadow: 0px 1px 3px 1px rgba(0, 0, 0, 0.15);\n",
              "      filter: drop-shadow(0px 1px 2px rgba(0, 0, 0, 0.3));\n",
              "      fill: #FFFFFF;\n",
              "    }\n",
              "  </style>\n",
              "\n",
              "      <script>\n",
              "        const buttonEl =\n",
              "          document.querySelector('#df-5725242d-66bd-4f26-bf26-d1f3f36a9249 button.colab-df-convert');\n",
              "        buttonEl.style.display =\n",
              "          google.colab.kernel.accessAllowed ? 'block' : 'none';\n",
              "\n",
              "        async function convertToInteractive(key) {\n",
              "          const element = document.querySelector('#df-5725242d-66bd-4f26-bf26-d1f3f36a9249');\n",
              "          const dataTable =\n",
              "            await google.colab.kernel.invokeFunction('convertToInteractive',\n",
              "                                                     [key], {});\n",
              "          if (!dataTable) return;\n",
              "\n",
              "          const docLinkHtml = 'Like what you see? Visit the ' +\n",
              "            '<a target=\"_blank\" href=https://colab.research.google.com/notebooks/data_table.ipynb>data table notebook</a>'\n",
              "            + ' to learn more about interactive tables.';\n",
              "          element.innerHTML = '';\n",
              "          dataTable['output_type'] = 'display_data';\n",
              "          await google.colab.output.renderOutput(dataTable, element);\n",
              "          const docLink = document.createElement('div');\n",
              "          docLink.innerHTML = docLinkHtml;\n",
              "          element.appendChild(docLink);\n",
              "        }\n",
              "      </script>\n",
              "    </div>\n",
              "  </div>\n",
              "  "
            ]
          },
          "metadata": {},
          "execution_count": 6
        }
      ]
    },
    {
      "cell_type": "code",
      "source": [
        "X = dummy_data[['age', 'c_charge_degree', 'sex', 'race', 'length_of_stay', 'has_juv', 'has_prior']]\n",
        "y = dummy_data['two_year_recid']\n",
        "\n",
        "X_train, X_test, y_train, y_test = train_test_split(X, y, test_size = 0.2, random_state=123)\n",
        "\n",
        "train_df = pd.concat([X_train, y_train], axis = 1)"
      ],
      "metadata": {
        "id": "SM7ZE0sT7c-J"
      },
      "execution_count": 7,
      "outputs": []
    },
    {
      "cell_type": "markdown",
      "source": [
        "# Model Training"
      ],
      "metadata": {
        "id": "rGnGitTnI3Xr"
      }
    },
    {
      "cell_type": "code",
      "source": [
        "GBC = GradientBoostingClassifier(n_estimators=80, learning_rate=0.25, max_depth=1, max_features=5, random_state=0)\n",
        "clf = GBC.fit(X_train, y_train);"
      ],
      "metadata": {
        "id": "uGSRG6UVJQ6N"
      },
      "execution_count": 8,
      "outputs": []
    },
    {
      "cell_type": "code",
      "source": [
        "y_test_pred = clf.predict(X_test)\n",
        "print(classification_report(y_test, y_test_pred))"
      ],
      "metadata": {
        "colab": {
          "base_uri": "https://localhost:8080/"
        },
        "id": "FHhDPWvNLQjo",
        "outputId": "99b0bf45-15b7-4535-9a7e-339cb41b6d03"
      },
      "execution_count": 9,
      "outputs": [
        {
          "output_type": "stream",
          "name": "stdout",
          "text": [
            "              precision    recall  f1-score   support\n",
            "\n",
            "           0       0.64      0.69      0.66       542\n",
            "           1       0.65      0.60      0.62       514\n",
            "\n",
            "    accuracy                           0.64      1056\n",
            "   macro avg       0.64      0.64      0.64      1056\n",
            "weighted avg       0.64      0.64      0.64      1056\n",
            "\n"
          ]
        }
      ]
    },
    {
      "cell_type": "code",
      "source": [
        "fig, ax = plt.subplots(1, 2, figsize=(15,6))\n",
        "fig.suptitle('Confusion Matricies of Caucasians and African Americans on Validation Set')\n",
        "\n",
        "y_test_pred_c = clf.predict(X_test[X_test['race']==1])\n",
        "cm_c = confusion_matrix(y_test[X_test['race']==1], y_test_pred_c)\n",
        "sns.heatmap(cm_c, annot=True, fmt='g', ax=ax[0], cmap=\"YlGnBu\")\n",
        "ax[0].set_xlabel('Predicted labels');ax[0].set_ylabel('True labels')\n",
        "ax[0].set_title('Caucasians')\n",
        "\n",
        "y_test_pred_aa = clf.predict(X_test[X_test['race']==0])\n",
        "cm_aa = confusion_matrix(y_test[X_test['race']==0], y_test_pred_aa)\n",
        "sns.heatmap(cm_aa, annot=True, fmt='g', ax=ax[1], cmap=\"YlGnBu\")\n",
        "ax[1].set_xlabel('Predicted labels');ax[1].set_ylabel('True labels')\n",
        "ax[1].set_title('African Americans');"
      ],
      "metadata": {
        "colab": {
          "base_uri": "https://localhost:8080/",
          "height": 437
        },
        "id": "uSLA9n8wGKVQ",
        "outputId": "281e8642-2ec5-41d5-a604-88c03bba3ea5"
      },
      "execution_count": 10,
      "outputs": [
        {
          "output_type": "display_data",
          "data": {
            "text/plain": [
              "<Figure size 1080x432 with 4 Axes>"
            ],
            "image/png": "[encoded data removed]"
          },
          "metadata": {
            "needs_background": "light"
          }
        }
      ]
    },
    {
      "cell_type": "code",
      "source": [
        "summary_stats = []\n",
        "\n",
        "def model_score(y_true, y_pred):\n",
        "    stats=[]\n",
        "   \n",
        "    Pre = precision_score(y_true, y_pred)\n",
        "    Rec = recall_score(y_true, y_pred)\n",
        "    Acc = accuracy_score(y_true, y_pred)\n",
        "    stats.extend([Pre,Rec,Acc])\n",
        "\n",
        "    return stats\n",
        "\n",
        "y_train_pred = clf.predict(X_train)\n",
        "\n",
        "summary_stats.extend(model_score(y_train, y_train_pred))\n",
        "summary_stats.extend(model_score(y_test, y_test_pred))"
      ],
      "metadata": {
        "id": "AkR9HRgeOhJ_"
      },
      "execution_count": 11,
      "outputs": []
    },
    {
      "cell_type": "markdown",
      "source": [
        "## Model evaluation on 3 fairness definitions - Parity, Calibration, and Equality of Odds"
      ],
      "metadata": {
        "id": "gcrzAgT2Lkbi"
      }
    },
    {
      "cell_type": "code",
      "source": [
        "y_test_pred_c = clf.predict(X_test[X_test['race']==1])\n",
        "tn_c, fp_c, fn_c, tp_c  = confusion_matrix(y_test[X_test['race']==1], y_test_pred_c).ravel()\n",
        "y_test_pred_aa = clf.predict(X_test[X_test['race']==0])\n",
        "tn_aa, fp_aa, fn_aa, tp_aa = confusion_matrix(y_test[X_test['race']==0], y_test_pred_aa).ravel()"
      ],
      "metadata": {
        "id": "fUZnnlJsNuDe"
      },
      "execution_count": 12,
      "outputs": []
    },
    {
      "cell_type": "markdown",
      "source": [
        "### Parity"
      ],
      "metadata": {
        "id": "dMW-Ypf4L-Pg"
      }
    },
    {
      "cell_type": "code",
      "source": [
        "C = tp_c/(tn_c+fp_c+fn_c+tp_c)\n",
        "AA = tp_aa/(tn_aa+fp_aa+fn_aa+tp_aa)\n",
        "print('P(G=1|Race=Caucasian)=', C)\n",
        "print('P(G=1|Race=African American)=', AA)\n",
        "print('P(G=1|Race=African American)!=P(G=1|Race=Caucasian)')\n",
        "print('Parity:', abs(AA-C))\n",
        "summary_stats.append(abs(AA-C))"
      ],
      "metadata": {
        "id": "xI2g6G2eLcJn",
        "colab": {
          "base_uri": "https://localhost:8080/"
        },
        "outputId": "e4623a0f-8afa-416f-bc06-c6ca268295fc"
      },
      "execution_count": 13,
      "outputs": [
        {
          "output_type": "stream",
          "name": "stdout",
          "text": [
            "P(G=1|Race=Caucasian)= 0.18292682926829268\n",
            "P(G=1|Race=African American)= 0.3622291021671827\n",
            "P(G=1|Race=African American)!=P(G=1|Race=Caucasian)\n",
            "Parity: 0.17930227289889\n"
          ]
        }
      ]
    },
    {
      "cell_type": "markdown",
      "source": [
        "### Calibration"
      ],
      "metadata": {
        "id": "haowndtcjqII"
      }
    },
    {
      "cell_type": "code",
      "source": [
        "C = (tn_c+tp_c)/(tn_c+fp_c+fn_c+tp_c)\n",
        "AA = (tn_aa+tp_aa)/(tn_aa+fp_aa+fn_aa+tp_aa)\n",
        "print('P(G=T|Race=Caucasian)=', C)\n",
        "print('P(G=T|Race=African American)=', AA)\n",
        "print('P(G=T|Race=African American)~=P(G=T|Race=Caucasian)')\n",
        "print('Calibration:', abs(AA-C))\n",
        "summary_stats.append(abs(AA-C))"
      ],
      "metadata": {
        "colab": {
          "base_uri": "https://localhost:8080/"
        },
        "id": "cf_Lu8mmjoOB",
        "outputId": "37bb4ef1-854e-46a9-8d52-77b744715ed3"
      },
      "execution_count": 14,
      "outputs": [
        {
          "output_type": "stream",
          "name": "stdout",
          "text": [
            "P(G=T|Race=Caucasian)= 0.6585365853658537\n",
            "P(G=T|Race=African American)= 0.6362229102167183\n",
            "P(G=T|Race=African American)~=P(G=T|Race=Caucasian)\n",
            "Calibration: 0.022313675149135404\n"
          ]
        }
      ]
    },
    {
      "cell_type": "markdown",
      "source": [
        "### Equality of Odds:"
      ],
      "metadata": {
        "id": "cR7uKuCPkW8J"
      }
    },
    {
      "cell_type": "code",
      "source": [
        "C = (tp_c)/(fn_c+tp_c)\n",
        "AA = (tp_aa)/(fn_aa+tp_aa)\n",
        "print('P(G=T|Race=Caucasian,Recidivism=True)=', C)\n",
        "print('P(G=T|Race=African American,Recidivism=True)=', AA)\n",
        "print('P(G=T|Race=African American,Recidivism=True)!=P(G=T|Race=caucasian,Recidivism=True)')\n",
        "print('Equality of Odds:', abs(AA-C))\n",
        "summary_stats.append(abs(AA-C))"
      ],
      "metadata": {
        "colab": {
          "base_uri": "https://localhost:8080/"
        },
        "id": "OQ40DiVRkWJR",
        "outputId": "dd8713e6-19e1-4bda-9dfc-9efb1b4a1b6d"
      },
      "execution_count": 15,
      "outputs": [
        {
          "output_type": "stream",
          "name": "stdout",
          "text": [
            "P(G=T|Race=Caucasian,Recidivism=True)= 0.4716981132075472\n",
            "P(G=T|Race=African American,Recidivism=True)= 0.6591549295774648\n",
            "P(G=T|Race=African American,Recidivism=True)!=P(G=T|Race=caucasian,Recidivism=True)\n",
            "Equality of Odds: 0.18745681636991762\n"
          ]
        }
      ]
    },
    {
      "cell_type": "markdown",
      "source": [
        "### False Positive Rate (5-folder cross validation)"
      ],
      "metadata": {
        "id": "Dp7jivLq6XXC"
      }
    },
    {
      "cell_type": "code",
      "source": [
        "def FPR(fp, tn):\n",
        "  return fp / (fp + tn)\n",
        "\n",
        "def calibration(tn, fp, fn, tp):\n",
        "  return (tn+tp) / (tn+fp+fn+tp)\n",
        "\n",
        "def bias_exp(X, y, exp_num=5, algor=''):\n",
        "  FPR_black = []\n",
        "  FPR_white = []\n",
        "  cal_black = []\n",
        "  cal_white = []\n",
        "  Acc = []\n",
        "\n",
        "  for i in range(exp_num):\n",
        "\n",
        "    X_train, X_test, y_train, y_test = train_test_split(X, y, test_size=0.2, random_state=i*5)\n",
        "    # X_train = X_train.drop('race', axis=1)\n",
        "    model = GradientBoostingClassifier(n_estimators=80, learning_rate=0.25, max_depth=1, max_features=5, random_state=0)\n",
        "    if algor == '':\n",
        "      modified_train = pd.concat([X_train, y_train], axis = 1)\n",
        "    elif algor == 'LM': \n",
        "      modified_train = LM(pd.concat([X_train, y_train], axis = 1)).drop(['rank'], axis=1)\n",
        "    elif algor == 'LPS':\n",
        "      modified_train = LPS(pd.concat([X_train, y_train], axis = 1)).drop(['rank'], axis=1)\n",
        "    model.fit(modified_train.drop(['two_year_recid'], axis=1), modified_train['two_year_recid'])\n",
        "\n",
        "    # accuracy\n",
        "    y_pred = model.predict(X_test)\n",
        "    ac = accuracy_score(y_test, y_pred)\n",
        "    Acc.append(ac)\n",
        "\n",
        "    data = X_test.assign(two_year_recid = y_test)\n",
        "    data_black = data[data['race']==0]\n",
        "    data_white = data[data['race']==1]\n",
        "\n",
        "    y_pred_black = model.predict(data_black.drop(['two_year_recid'], axis=1))\n",
        "    y_pred_white = model.predict(data_white.drop(['two_year_recid'], axis=1))\n",
        "\n",
        "    # black\n",
        "    tn, fp, fn, tp = confusion_matrix(data_black['two_year_recid'], \n",
        "                                      y_pred_black).ravel()\n",
        "    black_fpr = FPR(fp, tn)\n",
        "    FPR_black.append(black_fpr)\n",
        "    black_cal = calibration(tn, fp, fn, tp)\n",
        "    cal_black.append(black_cal)\n",
        "    # white\n",
        "    tn, fp, fn, tp = confusion_matrix(data_white['two_year_recid'], \n",
        "                                      y_pred_white).ravel()\n",
        "    white_fpr = FPR(fp, tn)\n",
        "    FPR_white.append(white_fpr)\n",
        "    white_cal = calibration(tn, fp, fn, tp)\n",
        "    cal_white.append(white_cal)\n",
        "\n",
        "  return cal_black, cal_white, FPR_black, FPR_white, Acc"
      ],
      "metadata": {
        "id": "zLLQJ9aH0LLw"
      },
      "execution_count": 16,
      "outputs": []
    },
    {
      "cell_type": "code",
      "source": [
        "X = dummy_data[['age', 'race', 'c_charge_degree', 'sex', 'length_of_stay', 'has_juv', 'has_prior']]\n",
        "y = dummy_data['two_year_recid']\n",
        "\n",
        "model = GradientBoostingClassifier(n_estimators=80, learning_rate=0.25, max_depth=1, max_features=5, random_state=0)\n",
        "exp_df_Ori = pd.DataFrame(columns=['Experiment', 'Accuracy (mean)', 'Accuracy (std)', \n",
        "                               'Black FPR', 'White FPR', 'Black Acc', 'White Acc', 'Calibration'])\n",
        "\n",
        "black_cal, white_cal, black_fpr, white_fpr, Acc = bias_exp(X, y)\n",
        "exp_df_Ori.loc[len(exp_df_Ori.index)] = [\"Original\", np.mean(Acc), np.std(Acc),\n",
        "                                 np.mean(black_fpr), np.mean(white_fpr), np.mean(black_cal), np.mean(white_cal), \n",
        "                                 abs(np.mean(black_cal)-np.mean(white_cal))]\n",
        "\n",
        "exp_df_Ori"
      ],
      "metadata": {
        "colab": {
          "base_uri": "https://localhost:8080/",
          "height": 80
        },
        "id": "0J3V9Plr1paH",
        "outputId": "8ea4a998-d37b-4177-9ac0-7dfd7e6fba68"
      },
      "execution_count": 17,
      "outputs": [
        {
          "output_type": "execute_result",
          "data": {
            "text/plain": [
              "  Experiment  Accuracy (mean)  Accuracy (std)  Black FPR  White FPR  \\\n",
              "0   Original         0.667614        0.018778   0.396039   0.185077   \n",
              "\n",
              "   Black Acc  White Acc  Calibration  \n",
              "0   0.669379     0.6648     0.004579  "
            ],
            "text/html": [
              "\n",
              "  <div id=\"df-9bd57df3-c1ff-47d9-a9e3-0aa47d4b0b5a\">\n",
              "    <div class=\"colab-df-container\">\n",
              "      <div>\n",
              "<style scoped>\n",
              "    .dataframe tbody tr th:only-of-type {\n",
              "        vertical-align: middle;\n",
              "    }\n",
              "\n",
              "    .dataframe tbody tr th {\n",
              "        vertical-align: top;\n",
              "    }\n",
              "\n",
              "    .dataframe thead th {\n",
              "        text-align: right;\n",
              "    }\n",
              "</style>\n",
              "<table border=\"1\" class=\"dataframe\">\n",
              "  <thead>\n",
              "    <tr style=\"text-align: right;\">\n",
              "      <th></th>\n",
              "      <th>Experiment</th>\n",
              "      <th>Accuracy (mean)</th>\n",
              "      <th>Accuracy (std)</th>\n",
              "      <th>Black FPR</th>\n",
              "      <th>White FPR</th>\n",
              "      <th>Black Acc</th>\n",
              "      <th>White Acc</th>\n",
              "      <th>Calibration</th>\n",
              "    </tr>\n",
              "  </thead>\n",
              "  <tbody>\n",
              "    <tr>\n",
              "      <th>0</th>\n",
              "      <td>Original</td>\n",
              "      <td>0.667614</td>\n",
              "      <td>0.018778</td>\n",
              "      <td>0.396039</td>\n",
              "      <td>0.185077</td>\n",
              "      <td>0.669379</td>\n",
              "      <td>0.6648</td>\n",
              "      <td>0.004579</td>\n",
              "    </tr>\n",
              "  </tbody>\n",
              "</table>\n",
              "</div>\n",
              "      <button class=\"colab-df-convert\" onclick=\"convertToInteractive('df-9bd57df3-c1ff-47d9-a9e3-0aa47d4b0b5a')\"\n",
              "              title=\"Convert this dataframe to an interactive table.\"\n",
              "              style=\"display:none;\">\n",
              "        \n",
              "  <svg xmlns=\"http://www.w3.org/2000/svg\" height=\"24px\"viewBox=\"0 0 24 24\"\n",
              "       width=\"24px\">\n",
              "    <path d=\"M0 0h24v24H0V0z\" fill=\"none\"/>\n",
              "    <path d=\"M18.56 5.44l.94 2.06.94-2.06 2.06-.94-2.06-.94-.94-2.06-.94 2.06-2.06.94zm-11 1L8.5 8.5l.94-2.06 2.06-.94-2.06-.94L8.5 2.5l-.94 2.06-2.06.94zm10 10l.94 2.06.94-2.06 2.06-.94-2.06-.94-.94-2.06-.94 2.06-2.06.94z\"/><path d=\"M17.41 7.96l-1.37-1.37c-.4-.4-.92-.59-1.43-.59-.52 0-1.04.2-1.43.59L10.3 9.45l-7.72 7.72c-.78.78-.78 2.05 0 2.83L4 21.41c.39.39.9.59 1.41.59.51 0 1.02-.2 1.41-.59l7.78-7.78 2.81-2.81c.8-.78.8-2.07 0-2.86zM5.41 20L4 18.59l7.72-7.72 1.47 1.35L5.41 20z\"/>\n",
              "  </svg>\n",
              "      </button>\n",
              "      \n",
              "  <style>\n",
              "    .colab-df-container {\n",
              "      display:flex;\n",
              "      flex-wrap:wrap;\n",
              "      gap: 12px;\n",
              "    }\n",
              "\n",
              "    .colab-df-convert {\n",
              "      background-color: #E8F0FE;\n",
              "      border: none;\n",
              "      border-radius: 50%;\n",
              "      cursor: pointer;\n",
              "      display: none;\n",
              "      fill: #1967D2;\n",
              "      height: 32px;\n",
              "      padding: 0 0 0 0;\n",
              "      width: 32px;\n",
              "    }\n",
              "\n",
              "    .colab-df-convert:hover {\n",
              "      background-color: #E2EBFA;\n",
              "      box-shadow: 0px 1px 2px rgba(60, 64, 67, 0.3), 0px 1px 3px 1px rgba(60, 64, 67, 0.15);\n",
              "      fill: #174EA6;\n",
              "    }\n",
              "\n",
              "    [theme=dark] .colab-df-convert {\n",
              "      background-color: #3B4455;\n",
              "      fill: #D2E3FC;\n",
              "    }\n",
              "\n",
              "    [theme=dark] .colab-df-convert:hover {\n",
              "      background-color: #434B5C;\n",
              "      box-shadow: 0px 1px 3px 1px rgba(0, 0, 0, 0.15);\n",
              "      filter: drop-shadow(0px 1px 2px rgba(0, 0, 0, 0.3));\n",
              "      fill: #FFFFFF;\n",
              "    }\n",
              "  </style>\n",
              "\n",
              "      <script>\n",
              "        const buttonEl =\n",
              "          document.querySelector('#df-9bd57df3-c1ff-47d9-a9e3-0aa47d4b0b5a button.colab-df-convert');\n",
              "        buttonEl.style.display =\n",
              "          google.colab.kernel.accessAllowed ? 'block' : 'none';\n",
              "\n",
              "        async function convertToInteractive(key) {\n",
              "          const element = document.querySelector('#df-9bd57df3-c1ff-47d9-a9e3-0aa47d4b0b5a');\n",
              "          const dataTable =\n",
              "            await google.colab.kernel.invokeFunction('convertToInteractive',\n",
              "                                                     [key], {});\n",
              "          if (!dataTable) return;\n",
              "\n",
              "          const docLinkHtml = 'Like what you see? Visit the ' +\n",
              "            '<a target=\"_blank\" href=https://colab.research.google.com/notebooks/data_table.ipynb>data table notebook</a>'\n",
              "            + ' to learn more about interactive tables.';\n",
              "          element.innerHTML = '';\n",
              "          dataTable['output_type'] = 'display_data';\n",
              "          await google.colab.output.renderOutput(dataTable, element);\n",
              "          const docLink = document.createElement('div');\n",
              "          docLink.innerHTML = docLinkHtml;\n",
              "          element.appendChild(docLink);\n",
              "        }\n",
              "      </script>\n",
              "    </div>\n",
              "  </div>\n",
              "  "
            ]
          },
          "metadata": {},
          "execution_count": 17
        }
      ]
    },
    {
      "cell_type": "markdown",
      "source": [
        "# A6 Algorithms--Handling Conditional Discrimination (LM and LPS)"
      ],
      "metadata": {
        "id": "6OeIQu9O5lYr"
      }
    },
    {
      "cell_type": "markdown",
      "source": [
        "## Measure of Discrimination"
      ],
      "metadata": {
        "id": "g5drUBwi54fx"
      }
    },
    {
      "cell_type": "code",
      "source": [
        "bad_dis = []\n",
        "overview = []\n",
        "overall_AA = train_df[train_df.race == 0].two_year_recid.sum()/train_df[train_df.race == 0].shape[0]\n",
        "overall_Caucasian = train_df[train_df.race == 1].two_year_recid.sum()/train_df[train_df.race == 1].shape[0]\n",
        "features = ['c_charge_degree', 'sex', 'has_juv', 'has_prior']\n",
        "for feature in features:\n",
        "  df = train_df.groupby([feature, 'race']).two_year_recid.agg(['count','sum']).reset_index()\n",
        "  df['recid_rate'] = df['sum']/df['count']\n",
        "  df['corrected_recid_rate'] = 0\n",
        "  df.loc[df[feature] == 1, 'corrected_recid_rate'] = df.groupby(feature).recid_rate.mean()[1]\n",
        "  df.loc[df[feature] == 0, 'corrected_recid_rate'] = df.groupby(feature).recid_rate.mean()[0]\n",
        "  df['corrected_recid_count'] = round(df['count'] * df['corrected_recid_rate']).astype(int)\n",
        "  overview.append(df)\n",
        "  D_expl = df[df.race == 0].corrected_recid_count.sum()/train_df[train_df.race == 0].shape[0] - df[df.race == 1].corrected_recid_count.sum()/train_df[train_df.race == 1].shape[0]\n",
        "  bad_dis.append(((overall_AA-overall_Caucasian) - D_expl))\n",
        "\n",
        "from matplotlib.legend_handler import HandlerLine2D\n",
        "fig, ax = plt.subplots(1, 1, figsize=(6,4))\n",
        "plt.plot(features, bad_dis, 'c.-', linewidth=2, markersize=10, label='D_bad')\n",
        "plt.axhline(y=(overall_AA-overall_Caucasian), c=\"r\", ls=\"--\", lw=2, label='D_all')\n",
        "handles, _ = ax.get_legend_handles_labels()\n",
        "labels = [\"D_bad\", \"D_all\"]\n",
        "plt.legend(handles = handles, labels = labels)\n",
        "plt.ylim((0, 0.15))\n",
        "plt.show();"
      ],
      "metadata": {
        "colab": {
          "base_uri": "https://localhost:8080/",
          "height": 269
        },
        "id": "RRSDPGG4u159",
        "outputId": "0d1eb14f-ad16-41d7-c21b-4222884c2b97"
      },
      "execution_count": 18,
      "outputs": [
        {
          "output_type": "display_data",
          "data": {
            "text/plain": [
              "<Figure size 432x288 with 1 Axes>"
            ],
            "image/png": "[encoded data removed]"
          },
          "metadata": {
            "needs_background": "light"
          }
        }
      ]
    },
    {
      "cell_type": "code",
      "source": [
        "pre_overview = overview[-1]\n",
        "pre_overview.loc[pre_overview['race'] == 1, 'race'] = 'Caucasian'\n",
        "pre_overview.loc[pre_overview['race'] == 0, 'race'] = 'African-American'\n",
        "pre_overview.loc[pre_overview['has_prior'] == 1, 'has_prior'] = 'True'\n",
        "pre_overview.loc[pre_overview['has_prior'] ==0, 'has_prior'] = 'False'\n",
        "pre_overview.rename(columns={'sum':'recid_count'}, inplace=True)\n",
        "pre_overview"
      ],
      "metadata": {
        "id": "qZNc4Bp-FSD3",
        "colab": {
          "base_uri": "https://localhost:8080/",
          "height": 175
        },
        "outputId": "a028278a-df64-4525-eed4-7d462143e13d"
      },
      "execution_count": 19,
      "outputs": [
        {
          "output_type": "execute_result",
          "data": {
            "text/plain": [
              "  has_prior              race  count  recid_count  recid_rate  \\\n",
              "0     False  African-American    668          218    0.326347   \n",
              "1     False         Caucasian    655          167    0.254962   \n",
              "2      True  African-American   1861         1088    0.584632   \n",
              "3      True         Caucasian   1038          496    0.477842   \n",
              "\n",
              "   corrected_recid_rate  corrected_recid_count  \n",
              "0              0.290655                    194  \n",
              "1              0.290655                    190  \n",
              "2              0.531237                    989  \n",
              "3              0.531237                    551  "
            ],
            "text/html": [
              "\n",
              "  <div id=\"df-d05da0b0-9d2b-40a3-a657-f129f2860cc2\">\n",
              "    <div class=\"colab-df-container\">\n",
              "      <div>\n",
              "<style scoped>\n",
              "    .dataframe tbody tr th:only-of-type {\n",
              "        vertical-align: middle;\n",
              "    }\n",
              "\n",
              "    .dataframe tbody tr th {\n",
              "        vertical-align: top;\n",
              "    }\n",
              "\n",
              "    .dataframe thead th {\n",
              "        text-align: right;\n",
              "    }\n",
              "</style>\n",
              "<table border=\"1\" class=\"dataframe\">\n",
              "  <thead>\n",
              "    <tr style=\"text-align: right;\">\n",
              "      <th></th>\n",
              "      <th>has_prior</th>\n",
              "      <th>race</th>\n",
              "      <th>count</th>\n",
              "      <th>recid_count</th>\n",
              "      <th>recid_rate</th>\n",
              "      <th>corrected_recid_rate</th>\n",
              "      <th>corrected_recid_count</th>\n",
              "    </tr>\n",
              "  </thead>\n",
              "  <tbody>\n",
              "    <tr>\n",
              "      <th>0</th>\n",
              "      <td>False</td>\n",
              "      <td>African-American</td>\n",
              "      <td>668</td>\n",
              "      <td>218</td>\n",
              "      <td>0.326347</td>\n",
              "      <td>0.290655</td>\n",
              "      <td>194</td>\n",
              "    </tr>\n",
              "    <tr>\n",
              "      <th>1</th>\n",
              "      <td>False</td>\n",
              "      <td>Caucasian</td>\n",
              "      <td>655</td>\n",
              "      <td>167</td>\n",
              "      <td>0.254962</td>\n",
              "      <td>0.290655</td>\n",
              "      <td>190</td>\n",
              "    </tr>\n",
              "    <tr>\n",
              "      <th>2</th>\n",
              "      <td>True</td>\n",
              "      <td>African-American</td>\n",
              "      <td>1861</td>\n",
              "      <td>1088</td>\n",
              "      <td>0.584632</td>\n",
              "      <td>0.531237</td>\n",
              "      <td>989</td>\n",
              "    </tr>\n",
              "    <tr>\n",
              "      <th>3</th>\n",
              "      <td>True</td>\n",
              "      <td>Caucasian</td>\n",
              "      <td>1038</td>\n",
              "      <td>496</td>\n",
              "      <td>0.477842</td>\n",
              "      <td>0.531237</td>\n",
              "      <td>551</td>\n",
              "    </tr>\n",
              "  </tbody>\n",
              "</table>\n",
              "</div>\n",
              "      <button class=\"colab-df-convert\" onclick=\"convertToInteractive('df-d05da0b0-9d2b-40a3-a657-f129f2860cc2')\"\n",
              "              title=\"Convert this dataframe to an interactive table.\"\n",
              "              style=\"display:none;\">\n",
              "        \n",
              "  <svg xmlns=\"http://www.w3.org/2000/svg\" height=\"24px\"viewBox=\"0 0 24 24\"\n",
              "       width=\"24px\">\n",
              "    <path d=\"M0 0h24v24H0V0z\" fill=\"none\"/>\n",
              "    <path d=\"M18.56 5.44l.94 2.06.94-2.06 2.06-.94-2.06-.94-.94-2.06-.94 2.06-2.06.94zm-11 1L8.5 8.5l.94-2.06 2.06-.94-2.06-.94L8.5 2.5l-.94 2.06-2.06.94zm10 10l.94 2.06.94-2.06 2.06-.94-2.06-.94-.94-2.06-.94 2.06-2.06.94z\"/><path d=\"M17.41 7.96l-1.37-1.37c-.4-.4-.92-.59-1.43-.59-.52 0-1.04.2-1.43.59L10.3 9.45l-7.72 7.72c-.78.78-.78 2.05 0 2.83L4 21.41c.39.39.9.59 1.41.59.51 0 1.02-.2 1.41-.59l7.78-7.78 2.81-2.81c.8-.78.8-2.07 0-2.86zM5.41 20L4 18.59l7.72-7.72 1.47 1.35L5.41 20z\"/>\n",
              "  </svg>\n",
              "      </button>\n",
              "      \n",
              "  <style>\n",
              "    .colab-df-container {\n",
              "      display:flex;\n",
              "      flex-wrap:wrap;\n",
              "      gap: 12px;\n",
              "    }\n",
              "\n",
              "    .colab-df-convert {\n",
              "      background-color: #E8F0FE;\n",
              "      border: none;\n",
              "      border-radius: 50%;\n",
              "      cursor: pointer;\n",
              "      display: none;\n",
              "      fill: #1967D2;\n",
              "      height: 32px;\n",
              "      padding: 0 0 0 0;\n",
              "      width: 32px;\n",
              "    }\n",
              "\n",
              "    .colab-df-convert:hover {\n",
              "      background-color: #E2EBFA;\n",
              "      box-shadow: 0px 1px 2px rgba(60, 64, 67, 0.3), 0px 1px 3px 1px rgba(60, 64, 67, 0.15);\n",
              "      fill: #174EA6;\n",
              "    }\n",
              "\n",
              "    [theme=dark] .colab-df-convert {\n",
              "      background-color: #3B4455;\n",
              "      fill: #D2E3FC;\n",
              "    }\n",
              "\n",
              "    [theme=dark] .colab-df-convert:hover {\n",
              "      background-color: #434B5C;\n",
              "      box-shadow: 0px 1px 3px 1px rgba(0, 0, 0, 0.15);\n",
              "      filter: drop-shadow(0px 1px 2px rgba(0, 0, 0, 0.3));\n",
              "      fill: #FFFFFF;\n",
              "    }\n",
              "  </style>\n",
              "\n",
              "      <script>\n",
              "        const buttonEl =\n",
              "          document.querySelector('#df-d05da0b0-9d2b-40a3-a657-f129f2860cc2 button.colab-df-convert');\n",
              "        buttonEl.style.display =\n",
              "          google.colab.kernel.accessAllowed ? 'block' : 'none';\n",
              "\n",
              "        async function convertToInteractive(key) {\n",
              "          const element = document.querySelector('#df-d05da0b0-9d2b-40a3-a657-f129f2860cc2');\n",
              "          const dataTable =\n",
              "            await google.colab.kernel.invokeFunction('convertToInteractive',\n",
              "                                                     [key], {});\n",
              "          if (!dataTable) return;\n",
              "\n",
              "          const docLinkHtml = 'Like what you see? Visit the ' +\n",
              "            '<a target=\"_blank\" href=https://colab.research.google.com/notebooks/data_table.ipynb>data table notebook</a>'\n",
              "            + ' to learn more about interactive tables.';\n",
              "          element.innerHTML = '';\n",
              "          dataTable['output_type'] = 'display_data';\n",
              "          await google.colab.output.renderOutput(dataTable, element);\n",
              "          const docLink = document.createElement('div');\n",
              "          docLink.innerHTML = docLinkHtml;\n",
              "          element.appendChild(docLink);\n",
              "        }\n",
              "      </script>\n",
              "    </div>\n",
              "  </div>\n",
              "  "
            ]
          },
          "metadata": {},
          "execution_count": 19
        }
      ]
    },
    {
      "cell_type": "code",
      "source": [
        "overall_AA = train_df[train_df.race == 0].two_year_recid.sum()/train_df[train_df.race == 0].shape[0]\n",
        "overall_Caucasian = train_df[train_df.race == 1].two_year_recid.sum()/train_df[train_df.race == 1].shape[0]\n",
        "D_expl = pre_overview[pre_overview.race == 'African-American'].corrected_recid_count.sum()/train_df[train_df.race == 0].shape[0] - pre_overview[pre_overview.race == 'Caucasian'].corrected_recid_count.sum()/train_df[train_df.race == 1].shape[0]\n",
        "\n",
        "print(f'the overall difference in training dataset: {(overall_AA-overall_Caucasian)*100:0.2f}%')\n",
        "print(f'the difference can be objective explainable by has_prior in training dataset: {D_expl*100:0.2f}%')\n",
        "print(f'the bad discrimination in training dataset: {((overall_AA-overall_Caucasian) - D_expl)*100:0.2f}%')"
      ],
      "metadata": {
        "colab": {
          "base_uri": "https://localhost:8080/"
        },
        "id": "5QTXdSOeSQCf",
        "outputId": "96ff3427-effa-4ded-9bb3-5c282e968d62"
      },
      "execution_count": 20,
      "outputs": [
        {
          "output_type": "stream",
          "name": "stdout",
          "text": [
            "the overall difference in training dataset: 12.48%\n",
            "the difference can be objective explainable by has_prior in training dataset: 3.01%\n",
            "the bad discrimination in training dataset: 9.47%\n"
          ]
        }
      ]
    },
    {
      "cell_type": "markdown",
      "source": [
        "## LM algorithm"
      ],
      "metadata": {
        "id": "TbN_AvMg58gq"
      }
    },
    {
      "cell_type": "code",
      "source": [
        "RACE = \"race\"\n",
        "DEGREE = \"has_prior\"\n",
        "TWO_YEAR_RECID = \"two_year_recid\"\n",
        "\n",
        "def PARTITION(full_df, e):\n",
        "    ret_dfs = list()\n",
        "    uniques = np.unique(e)\n",
        "    \n",
        "    for u in uniques:\n",
        "        ret_dfs.append(full_df[full_df[DEGREE]==u])\n",
        "    \n",
        "    return ret_dfs\n",
        "    \n",
        "#full_dfi is the dataframe with all columns, but partitioned to one crime degree\n",
        "#si is the current sensitive parameter value\n",
        "def DELTA(full_df, full_dfi, si):\n",
        "    \n",
        "    raceSub1 = full_dfi[RACE]==si\n",
        "    Gi = sum(raceSub1)\n",
        "    \n",
        "    num1 = sum(full_dfi[raceSub1][TWO_YEAR_RECID]==1)\n",
        "    denom1 = len(full_dfi[raceSub1])\n",
        "    P1 = num1/denom1\n",
        "    \n",
        "    raceSub2 = full_dfi[RACE]!=si\n",
        "    num2 = sum(full_dfi[raceSub2][TWO_YEAR_RECID]==1)\n",
        "    denom2 = len(full_dfi[raceSub2])\n",
        "    P2 = num2/denom2  \n",
        "      \n",
        "    Ps = 0.5*(P1 + P2)\n",
        "\n",
        "    return np.floor(Gi*abs(P1-Ps)).astype(np.int64)"
      ],
      "metadata": {
        "id": "vFxxgcf9IKZF"
      },
      "execution_count": 21,
      "outputs": []
    },
    {
      "cell_type": "code",
      "source": [
        "def LM(train_df):\n",
        "  LM_parts = []\n",
        "  for part in PARTITION(train_df, train_df[DEGREE]):\n",
        "      #train the model\n",
        "      X_part = part.drop(TWO_YEAR_RECID, axis=1)\n",
        "      y_part = part[TWO_YEAR_RECID]\n",
        "      model = GBC.fit(X_part, y_part)\n",
        "      \n",
        "      #RACE=1: Caucasian\n",
        "      part1 = part[part[RACE]==1]\n",
        "      part1.reset_index(drop=True, inplace=True)\n",
        "      delta1 = DELTA(train_df, part, 1)\n",
        "      X_part1 = part1.drop(TWO_YEAR_RECID, axis=1)\n",
        "      y_part1 = part1[TWO_YEAR_RECID]\n",
        "      rank = pd.DataFrame(model.decision_function(X_part1), columns = ['rank'])\n",
        "      comb1 = pd.concat([part1, rank], axis=1)\n",
        "\n",
        "      #RACE=0: African-American\n",
        "      part0 = part[part[RACE]==0]\n",
        "      part0.reset_index(drop=True, inplace=True)\n",
        "      delta0 = DELTA(train_df, part, 0)\n",
        "      X_part0 = part0.drop(TWO_YEAR_RECID, axis=1)\n",
        "      y_part0 = part0[TWO_YEAR_RECID]\n",
        "      rank = pd.DataFrame(model.decision_function(X_part0), columns = ['rank'])\n",
        "      comb0 = pd.concat([part0, rank], axis=1)\n",
        "\n",
        "      #relabel closest delta datapoints from - to + based on rank for C datapoints\n",
        "      #comb1 = comb1.sort_values(['rank'])\n",
        "      comb1 = comb1.sort_values([TWO_YEAR_RECID, 'rank'])\n",
        "      comb1.reset_index(drop=True, inplace=True)\n",
        "      \n",
        "      #t = sum(comb1['rank']<0)\n",
        "      t = sum(comb1[TWO_YEAR_RECID]==0)\n",
        "      l = len(comb1)\n",
        "      \n",
        "      F1 = np.full(t-delta1, False)\n",
        "      T = np.full(delta1, True)\n",
        "      F2 = np.full(l-t, False)\n",
        "\n",
        "      flip = np.concatenate([F1, T, F2])\n",
        "      comb1.loc[flip, TWO_YEAR_RECID] = 1\n",
        "      LM_parts.append(comb1)\n",
        "      \n",
        "      #relabel closest delta datapoints from + to - based on rank for AA datapoints\n",
        "      # comb0 = comb0.sort_values(['rank'])\n",
        "      comb0 = comb0.sort_values([TWO_YEAR_RECID, 'rank'])\n",
        "      comb0.reset_index(drop=True, inplace=True)\n",
        "      \n",
        "      # t = sum(comb0['rank']>0)\n",
        "      t = sum(comb0[TWO_YEAR_RECID]==1)\n",
        "      l = len(comb0)\n",
        "      \n",
        "      F1 = np.full(l-t, False)\n",
        "      T = np.full(delta0, True)\n",
        "      F2 = np.full(t-delta0, False)\n",
        "\n",
        "      flip = np.concatenate([F1, T, F2])\n",
        "      comb0.loc[flip, TWO_YEAR_RECID] = 0\n",
        "      LM_parts.append(comb0)\n",
        "\n",
        "  train_df_lm = pd.concat([LM_parts[0],LM_parts[1], LM_parts[2], LM_parts[3]], axis=0)\n",
        "\n",
        "  return train_df_lm"
      ],
      "metadata": {
        "id": "yC36yHSVJkyJ"
      },
      "execution_count": 22,
      "outputs": []
    },
    {
      "cell_type": "markdown",
      "source": [
        "### Measure of Discrimination——After LM"
      ],
      "metadata": {
        "id": "0Zrynhjn4TMm"
      }
    },
    {
      "cell_type": "code",
      "source": [
        "train_df_lm = LM(train_df)\n",
        "\n",
        "after_overview = train_df_lm.groupby([DEGREE, 'race']).two_year_recid.agg(['count','sum']).reset_index()\n",
        "after_overview['recid_rate'] = after_overview['sum']/after_overview['count']\n",
        "after_overview.loc[after_overview['race'] == 1, 'race'] = 'Caucasian'\n",
        "after_overview.loc[after_overview['race'] == 0, 'race'] = 'African-American'\n",
        "after_overview.loc[after_overview['has_prior'] == 1, 'has_prior'] = 'True'\n",
        "after_overview.loc[after_overview['has_prior'] ==0, 'has_prior'] = 'False'\n",
        "after_overview.rename(columns={'sum':'recid_count'}, inplace=True)\n",
        "after_overview"
      ],
      "metadata": {
        "id": "lUc0CpFc3cC3",
        "colab": {
          "base_uri": "https://localhost:8080/",
          "height": 175
        },
        "outputId": "6c853fc3-c6c6-4739-81aa-d7e157e532c4"
      },
      "execution_count": 23,
      "outputs": [
        {
          "output_type": "execute_result",
          "data": {
            "text/plain": [
              "  has_prior              race  count  recid_count  recid_rate\n",
              "0     False  African-American    668          195    0.291916\n",
              "1     False         Caucasian    655          190    0.290076\n",
              "2      True  African-American   1861          989    0.531435\n",
              "3      True         Caucasian   1038          551    0.530829"
            ],
            "text/html": [
              "\n",
              "  <div id=\"df-08f48b69-ebd5-4dc1-b27a-b8c6f2cfa9e6\">\n",
              "    <div class=\"colab-df-container\">\n",
              "      <div>\n",
              "<style scoped>\n",
              "    .dataframe tbody tr th:only-of-type {\n",
              "        vertical-align: middle;\n",
              "    }\n",
              "\n",
              "    .dataframe tbody tr th {\n",
              "        vertical-align: top;\n",
              "    }\n",
              "\n",
              "    .dataframe thead th {\n",
              "        text-align: right;\n",
              "    }\n",
              "</style>\n",
              "<table border=\"1\" class=\"dataframe\">\n",
              "  <thead>\n",
              "    <tr style=\"text-align: right;\">\n",
              "      <th></th>\n",
              "      <th>has_prior</th>\n",
              "      <th>race</th>\n",
              "      <th>count</th>\n",
              "      <th>recid_count</th>\n",
              "      <th>recid_rate</th>\n",
              "    </tr>\n",
              "  </thead>\n",
              "  <tbody>\n",
              "    <tr>\n",
              "      <th>0</th>\n",
              "      <td>False</td>\n",
              "      <td>African-American</td>\n",
              "      <td>668</td>\n",
              "      <td>195</td>\n",
              "      <td>0.291916</td>\n",
              "    </tr>\n",
              "    <tr>\n",
              "      <th>1</th>\n",
              "      <td>False</td>\n",
              "      <td>Caucasian</td>\n",
              "      <td>655</td>\n",
              "      <td>190</td>\n",
              "      <td>0.290076</td>\n",
              "    </tr>\n",
              "    <tr>\n",
              "      <th>2</th>\n",
              "      <td>True</td>\n",
              "      <td>African-American</td>\n",
              "      <td>1861</td>\n",
              "      <td>989</td>\n",
              "      <td>0.531435</td>\n",
              "    </tr>\n",
              "    <tr>\n",
              "      <th>3</th>\n",
              "      <td>True</td>\n",
              "      <td>Caucasian</td>\n",
              "      <td>1038</td>\n",
              "      <td>551</td>\n",
              "      <td>0.530829</td>\n",
              "    </tr>\n",
              "  </tbody>\n",
              "</table>\n",
              "</div>\n",
              "      <button class=\"colab-df-convert\" onclick=\"convertToInteractive('df-08f48b69-ebd5-4dc1-b27a-b8c6f2cfa9e6')\"\n",
              "              title=\"Convert this dataframe to an interactive table.\"\n",
              "              style=\"display:none;\">\n",
              "        \n",
              "  <svg xmlns=\"http://www.w3.org/2000/svg\" height=\"24px\"viewBox=\"0 0 24 24\"\n",
              "       width=\"24px\">\n",
              "    <path d=\"M0 0h24v24H0V0z\" fill=\"none\"/>\n",
              "    <path d=\"M18.56 5.44l.94 2.06.94-2.06 2.06-.94-2.06-.94-.94-2.06-.94 2.06-2.06.94zm-11 1L8.5 8.5l.94-2.06 2.06-.94-2.06-.94L8.5 2.5l-.94 2.06-2.06.94zm10 10l.94 2.06.94-2.06 2.06-.94-2.06-.94-.94-2.06-.94 2.06-2.06.94z\"/><path d=\"M17.41 7.96l-1.37-1.37c-.4-.4-.92-.59-1.43-.59-.52 0-1.04.2-1.43.59L10.3 9.45l-7.72 7.72c-.78.78-.78 2.05 0 2.83L4 21.41c.39.39.9.59 1.41.59.51 0 1.02-.2 1.41-.59l7.78-7.78 2.81-2.81c.8-.78.8-2.07 0-2.86zM5.41 20L4 18.59l7.72-7.72 1.47 1.35L5.41 20z\"/>\n",
              "  </svg>\n",
              "      </button>\n",
              "      \n",
              "  <style>\n",
              "    .colab-df-container {\n",
              "      display:flex;\n",
              "      flex-wrap:wrap;\n",
              "      gap: 12px;\n",
              "    }\n",
              "\n",
              "    .colab-df-convert {\n",
              "      background-color: #E8F0FE;\n",
              "      border: none;\n",
              "      border-radius: 50%;\n",
              "      cursor: pointer;\n",
              "      display: none;\n",
              "      fill: #1967D2;\n",
              "      height: 32px;\n",
              "      padding: 0 0 0 0;\n",
              "      width: 32px;\n",
              "    }\n",
              "\n",
              "    .colab-df-convert:hover {\n",
              "      background-color: #E2EBFA;\n",
              "      box-shadow: 0px 1px 2px rgba(60, 64, 67, 0.3), 0px 1px 3px 1px rgba(60, 64, 67, 0.15);\n",
              "      fill: #174EA6;\n",
              "    }\n",
              "\n",
              "    [theme=dark] .colab-df-convert {\n",
              "      background-color: #3B4455;\n",
              "      fill: #D2E3FC;\n",
              "    }\n",
              "\n",
              "    [theme=dark] .colab-df-convert:hover {\n",
              "      background-color: #434B5C;\n",
              "      box-shadow: 0px 1px 3px 1px rgba(0, 0, 0, 0.15);\n",
              "      filter: drop-shadow(0px 1px 2px rgba(0, 0, 0, 0.3));\n",
              "      fill: #FFFFFF;\n",
              "    }\n",
              "  </style>\n",
              "\n",
              "      <script>\n",
              "        const buttonEl =\n",
              "          document.querySelector('#df-08f48b69-ebd5-4dc1-b27a-b8c6f2cfa9e6 button.colab-df-convert');\n",
              "        buttonEl.style.display =\n",
              "          google.colab.kernel.accessAllowed ? 'block' : 'none';\n",
              "\n",
              "        async function convertToInteractive(key) {\n",
              "          const element = document.querySelector('#df-08f48b69-ebd5-4dc1-b27a-b8c6f2cfa9e6');\n",
              "          const dataTable =\n",
              "            await google.colab.kernel.invokeFunction('convertToInteractive',\n",
              "                                                     [key], {});\n",
              "          if (!dataTable) return;\n",
              "\n",
              "          const docLinkHtml = 'Like what you see? Visit the ' +\n",
              "            '<a target=\"_blank\" href=https://colab.research.google.com/notebooks/data_table.ipynb>data table notebook</a>'\n",
              "            + ' to learn more about interactive tables.';\n",
              "          element.innerHTML = '';\n",
              "          dataTable['output_type'] = 'display_data';\n",
              "          await google.colab.output.renderOutput(dataTable, element);\n",
              "          const docLink = document.createElement('div');\n",
              "          docLink.innerHTML = docLinkHtml;\n",
              "          element.appendChild(docLink);\n",
              "        }\n",
              "      </script>\n",
              "    </div>\n",
              "  </div>\n",
              "  "
            ]
          },
          "metadata": {},
          "execution_count": 23
        }
      ]
    },
    {
      "cell_type": "markdown",
      "source": [
        "### Model evaluation--After LM"
      ],
      "metadata": {
        "id": "zPF8PRbD42-j"
      }
    },
    {
      "cell_type": "code",
      "source": [
        "GBC = GradientBoostingClassifier(n_estimators=80, learning_rate=0.25, max_depth=1, max_features=5, random_state=0)\n",
        "clf_lm = GBC.fit(train_df_lm.drop(['two_year_recid', 'rank'], axis=1), train_df_lm['two_year_recid']);"
      ],
      "metadata": {
        "id": "sjk0-6BtSLLW"
      },
      "execution_count": 24,
      "outputs": []
    },
    {
      "cell_type": "code",
      "source": [
        "y_test_pred_lm = clf_lm.predict(X_test)\n",
        "print(classification_report(y_test, y_test_pred_lm))"
      ],
      "metadata": {
        "colab": {
          "base_uri": "https://localhost:8080/"
        },
        "id": "Fypc9Fr8Swo5",
        "outputId": "e6df9c9b-3118-4636-aaa3-6c13ff6b0e03"
      },
      "execution_count": 25,
      "outputs": [
        {
          "output_type": "stream",
          "name": "stdout",
          "text": [
            "              precision    recall  f1-score   support\n",
            "\n",
            "           0       0.64      0.71      0.67       542\n",
            "           1       0.65      0.58      0.61       514\n",
            "\n",
            "    accuracy                           0.64      1056\n",
            "   macro avg       0.64      0.64      0.64      1056\n",
            "weighted avg       0.64      0.64      0.64      1056\n",
            "\n"
          ]
        }
      ]
    },
    {
      "cell_type": "code",
      "source": [
        "fig, ax = plt.subplots(1, 2, figsize=(15,6))\n",
        "fig.suptitle('Confusion Matricies of Caucasians and African Americans on Validation Set')\n",
        "\n",
        "y_test_pred_c = clf_lm.predict(X_test[X_test['race']==1])\n",
        "cm_c = confusion_matrix(y_test[X_test['race']==1], y_test_pred_c)\n",
        "sns.heatmap(cm_c, annot=True, fmt='g', ax=ax[0], cmap=\"YlGnBu\")\n",
        "ax[0].set_xlabel('Predicted labels');ax[0].set_ylabel('True labels')\n",
        "ax[0].set_title('Caucasians')\n",
        "\n",
        "y_test_pred_aa = clf_lm.predict(X_test[X_test['race']==0])\n",
        "cm_aa = confusion_matrix(y_test[X_test['race']==0], y_test_pred_aa)\n",
        "sns.heatmap(cm_aa, annot=True, fmt='g', ax=ax[1], cmap=\"YlGnBu\")\n",
        "ax[1].set_xlabel('Predicted labels');ax[1].set_ylabel('True labels')\n",
        "ax[1].set_title('African Americans');"
      ],
      "metadata": {
        "colab": {
          "base_uri": "https://localhost:8080/",
          "height": 437
        },
        "id": "H46XfBKX4_IT",
        "outputId": "4c8c477e-d72a-45f2-a0de-fc0a59399536"
      },
      "execution_count": 26,
      "outputs": [
        {
          "output_type": "display_data",
          "data": {
            "text/plain": [
              "<Figure size 1080x432 with 4 Axes>"
            ],
            "image/png": "[encoded data removed]"
          },
          "metadata": {
            "needs_background": "light"
          }
        }
      ]
    },
    {
      "cell_type": "code",
      "source": [
        "y_train_pred_lm = clf_lm.predict(X_train)\n",
        "y_test_pred_lm = clf_lm.predict(X_test)\n",
        "\n",
        "summary_stats.extend(model_score(y_train, y_train_pred_lm))\n",
        "summary_stats.extend(model_score(y_test, y_test_pred_lm))"
      ],
      "metadata": {
        "id": "PhlIc1zG5b0Y"
      },
      "execution_count": 27,
      "outputs": []
    },
    {
      "cell_type": "markdown",
      "source": [
        "#### parity"
      ],
      "metadata": {
        "id": "GR1ie_hv57QT"
      }
    },
    {
      "cell_type": "code",
      "source": [
        "y_test_pred_c_lm = clf_lm.predict(X_test[X_test['race']==1])\n",
        "tn_c, fp_c, fn_c, tp_c = confusion_matrix(y_test[X_test['race']==1], y_test_pred_c_lm).ravel()\n",
        "y_test_pred_aa_lm = clf_lm.predict(X_test[X_test['race']==0])\n",
        "tn_aa, fp_aa, fn_aa, tp_aa = confusion_matrix(y_test[X_test['race']==0], y_test_pred_aa_lm).ravel()"
      ],
      "metadata": {
        "id": "Y4Ulsi0m50rr"
      },
      "execution_count": 28,
      "outputs": []
    },
    {
      "cell_type": "code",
      "source": [
        "C = tp_c/(tn_c+fp_c+fn_c+tp_c)\n",
        "AA = tp_aa/(tn_aa+fp_aa+fn_aa+tp_aa)\n",
        "print('P(G=1|Race=Caucasian)=', C)\n",
        "print('P(G=1|Race=African American)=', AA)\n",
        "print('P(G=1|Race=African American)!=P(G=1|Race=Caucasian)')\n",
        "print('Parity:', abs(AA-C))\n",
        "summary_stats.append(abs(AA-C))"
      ],
      "metadata": {
        "colab": {
          "base_uri": "https://localhost:8080/"
        },
        "id": "ra8J7mrn56dx",
        "outputId": "345ef108-c07b-4723-e07a-81c0c1feaf29"
      },
      "execution_count": 29,
      "outputs": [
        {
          "output_type": "stream",
          "name": "stdout",
          "text": [
            "P(G=1|Race=Caucasian)= 0.2146341463414634\n",
            "P(G=1|Race=African American)= 0.3219814241486068\n",
            "P(G=1|Race=African American)!=P(G=1|Race=Caucasian)\n",
            "Parity: 0.1073472778071434\n"
          ]
        }
      ]
    },
    {
      "cell_type": "markdown",
      "source": [
        "#### Calibration"
      ],
      "metadata": {
        "id": "61McSyQ76gDX"
      }
    },
    {
      "cell_type": "code",
      "source": [
        "C = (tn_c+tp_c)/(tn_c+fp_c+fn_c+tp_c)\n",
        "AA = (tn_aa+tp_aa)/(tn_aa+fp_aa+fn_aa+tp_aa)\n",
        "print('P(G=T|Race=Caucasian)=', C)\n",
        "print('P(G=T|Race=African American)=', AA)\n",
        "print('P(G=T|Race=African American)~=P(G=T|Race=Caucasian)')\n",
        "print('Calibration:', abs(AA-C))\n",
        "summary_stats.append(abs(AA-C))"
      ],
      "metadata": {
        "colab": {
          "base_uri": "https://localhost:8080/"
        },
        "id": "IsPSepSO6V-Q",
        "outputId": "6de954c2-a338-457e-8267-7f4107d3c7a9"
      },
      "execution_count": 30,
      "outputs": [
        {
          "output_type": "stream",
          "name": "stdout",
          "text": [
            "P(G=T|Race=Caucasian)= 0.6487804878048781\n",
            "P(G=T|Race=African American)= 0.6408668730650154\n",
            "P(G=T|Race=African American)~=P(G=T|Race=Caucasian)\n",
            "Calibration: 0.007913614739862629\n"
          ]
        }
      ]
    },
    {
      "cell_type": "markdown",
      "source": [
        "#### Equality of Odds:"
      ],
      "metadata": {
        "id": "iMti86fopp5q"
      }
    },
    {
      "cell_type": "code",
      "source": [
        "C = (tp_c)/(fn_c+tp_c)\n",
        "AA = (tp_aa)/(fn_aa+tp_aa)\n",
        "print('P(G=T|Race=Caucasian,Recidivism=True)=', C)\n",
        "print('P(G=T|Race=African American,Recidivism=True)=', AA)\n",
        "print('P(G=T|Race=African American,Recidivism=True)!=P(G=T|Race=caucasian,Recidivism=True)')\n",
        "print('Equality of Odds:', abs(AA-C))\n",
        "summary_stats.append(abs(AA-C))"
      ],
      "metadata": {
        "colab": {
          "base_uri": "https://localhost:8080/"
        },
        "id": "zFi3Mg4Lppcl",
        "outputId": "d4bc00fe-efee-4bd3-86ba-62c2275d3ddc"
      },
      "execution_count": 31,
      "outputs": [
        {
          "output_type": "stream",
          "name": "stdout",
          "text": [
            "P(G=T|Race=Caucasian,Recidivism=True)= 0.5534591194968553\n",
            "P(G=T|Race=African American,Recidivism=True)= 0.5859154929577465\n",
            "P(G=T|Race=African American,Recidivism=True)!=P(G=T|Race=caucasian,Recidivism=True)\n",
            "Equality of Odds: 0.03245637346089114\n"
          ]
        }
      ]
    },
    {
      "cell_type": "markdown",
      "source": [
        "#### False Positive Rate(5-folder cross validation)"
      ],
      "metadata": {
        "id": "5KPspQoBqRWz"
      }
    },
    {
      "cell_type": "code",
      "source": [
        "X = dummy_data[['age', 'race', 'c_charge_degree', 'sex', 'length_of_stay', 'has_juv', 'has_prior']]\n",
        "y = dummy_data['two_year_recid']\n",
        "\n",
        "model = GradientBoostingClassifier(n_estimators=80, learning_rate=0.25, max_depth=1, max_features=5, random_state=0)\n",
        "exp_df_LM = pd.DataFrame(columns=['Experiment', 'Accuracy (mean)', 'Accuracy (std)', \n",
        "                               'Black FPR', 'White FPR','Black Acc', 'White Acc', 'Calibration'])\n",
        "\n",
        "black_cal, white_cal, black_fpr, white_fpr, Acc = bias_exp(X, y, algor='LM')\n",
        "exp_df_LM.loc[len(exp_df_LM.index)] = [\"LM\", np.mean(Acc), np.std(Acc),\n",
        "                                 np.mean(black_fpr), np.mean(white_fpr), np.mean(black_cal), np.mean(white_cal), \n",
        "                                 abs(np.mean(black_cal)-np.mean(white_cal))]\n",
        "\n",
        "exp_df_LM"
      ],
      "metadata": {
        "colab": {
          "base_uri": "https://localhost:8080/",
          "height": 80
        },
        "id": "LIsxgLEe0MYj",
        "outputId": "693900fc-221e-4764-e339-e734a371a8f3"
      },
      "execution_count": 32,
      "outputs": [
        {
          "output_type": "execute_result",
          "data": {
            "text/plain": [
              "  Experiment  Accuracy (mean)  Accuracy (std)  Black FPR  White FPR  \\\n",
              "0         LM         0.660038        0.011253   0.288819   0.272368   \n",
              "\n",
              "   Black Acc  White Acc  Calibration  \n",
              "0   0.669465   0.645235      0.02423  "
            ],
            "text/html": [
              "\n",
              "  <div id=\"df-ce3bd756-2f24-45c7-b6a6-130bbf9fc12c\">\n",
              "    <div class=\"colab-df-container\">\n",
              "      <div>\n",
              "<style scoped>\n",
              "    .dataframe tbody tr th:only-of-type {\n",
              "        vertical-align: middle;\n",
              "    }\n",
              "\n",
              "    .dataframe tbody tr th {\n",
              "        vertical-align: top;\n",
              "    }\n",
              "\n",
              "    .dataframe thead th {\n",
              "        text-align: right;\n",
              "    }\n",
              "</style>\n",
              "<table border=\"1\" class=\"dataframe\">\n",
              "  <thead>\n",
              "    <tr style=\"text-align: right;\">\n",
              "      <th></th>\n",
              "      <th>Experiment</th>\n",
              "      <th>Accuracy (mean)</th>\n",
              "      <th>Accuracy (std)</th>\n",
              "      <th>Black FPR</th>\n",
              "      <th>White FPR</th>\n",
              "      <th>Black Acc</th>\n",
              "      <th>White Acc</th>\n",
              "      <th>Calibration</th>\n",
              "    </tr>\n",
              "  </thead>\n",
              "  <tbody>\n",
              "    <tr>\n",
              "      <th>0</th>\n",
              "      <td>LM</td>\n",
              "      <td>0.660038</td>\n",
              "      <td>0.011253</td>\n",
              "      <td>0.288819</td>\n",
              "      <td>0.272368</td>\n",
              "      <td>0.669465</td>\n",
              "      <td>0.645235</td>\n",
              "      <td>0.02423</td>\n",
              "    </tr>\n",
              "  </tbody>\n",
              "</table>\n",
              "</div>\n",
              "      <button class=\"colab-df-convert\" onclick=\"convertToInteractive('df-ce3bd756-2f24-45c7-b6a6-130bbf9fc12c')\"\n",
              "              title=\"Convert this dataframe to an interactive table.\"\n",
              "              style=\"display:none;\">\n",
              "        \n",
              "  <svg xmlns=\"http://www.w3.org/2000/svg\" height=\"24px\"viewBox=\"0 0 24 24\"\n",
              "       width=\"24px\">\n",
              "    <path d=\"M0 0h24v24H0V0z\" fill=\"none\"/>\n",
              "    <path d=\"M18.56 5.44l.94 2.06.94-2.06 2.06-.94-2.06-.94-.94-2.06-.94 2.06-2.06.94zm-11 1L8.5 8.5l.94-2.06 2.06-.94-2.06-.94L8.5 2.5l-.94 2.06-2.06.94zm10 10l.94 2.06.94-2.06 2.06-.94-2.06-.94-.94-2.06-.94 2.06-2.06.94z\"/><path d=\"M17.41 7.96l-1.37-1.37c-.4-.4-.92-.59-1.43-.59-.52 0-1.04.2-1.43.59L10.3 9.45l-7.72 7.72c-.78.78-.78 2.05 0 2.83L4 21.41c.39.39.9.59 1.41.59.51 0 1.02-.2 1.41-.59l7.78-7.78 2.81-2.81c.8-.78.8-2.07 0-2.86zM5.41 20L4 18.59l7.72-7.72 1.47 1.35L5.41 20z\"/>\n",
              "  </svg>\n",
              "      </button>\n",
              "      \n",
              "  <style>\n",
              "    .colab-df-container {\n",
              "      display:flex;\n",
              "      flex-wrap:wrap;\n",
              "      gap: 12px;\n",
              "    }\n",
              "\n",
              "    .colab-df-convert {\n",
              "      background-color: #E8F0FE;\n",
              "      border: none;\n",
              "      border-radius: 50%;\n",
              "      cursor: pointer;\n",
              "      display: none;\n",
              "      fill: #1967D2;\n",
              "      height: 32px;\n",
              "      padding: 0 0 0 0;\n",
              "      width: 32px;\n",
              "    }\n",
              "\n",
              "    .colab-df-convert:hover {\n",
              "      background-color: #E2EBFA;\n",
              "      box-shadow: 0px 1px 2px rgba(60, 64, 67, 0.3), 0px 1px 3px 1px rgba(60, 64, 67, 0.15);\n",
              "      fill: #174EA6;\n",
              "    }\n",
              "\n",
              "    [theme=dark] .colab-df-convert {\n",
              "      background-color: #3B4455;\n",
              "      fill: #D2E3FC;\n",
              "    }\n",
              "\n",
              "    [theme=dark] .colab-df-convert:hover {\n",
              "      background-color: #434B5C;\n",
              "      box-shadow: 0px 1px 3px 1px rgba(0, 0, 0, 0.15);\n",
              "      filter: drop-shadow(0px 1px 2px rgba(0, 0, 0, 0.3));\n",
              "      fill: #FFFFFF;\n",
              "    }\n",
              "  </style>\n",
              "\n",
              "      <script>\n",
              "        const buttonEl =\n",
              "          document.querySelector('#df-ce3bd756-2f24-45c7-b6a6-130bbf9fc12c button.colab-df-convert');\n",
              "        buttonEl.style.display =\n",
              "          google.colab.kernel.accessAllowed ? 'block' : 'none';\n",
              "\n",
              "        async function convertToInteractive(key) {\n",
              "          const element = document.querySelector('#df-ce3bd756-2f24-45c7-b6a6-130bbf9fc12c');\n",
              "          const dataTable =\n",
              "            await google.colab.kernel.invokeFunction('convertToInteractive',\n",
              "                                                     [key], {});\n",
              "          if (!dataTable) return;\n",
              "\n",
              "          const docLinkHtml = 'Like what you see? Visit the ' +\n",
              "            '<a target=\"_blank\" href=https://colab.research.google.com/notebooks/data_table.ipynb>data table notebook</a>'\n",
              "            + ' to learn more about interactive tables.';\n",
              "          element.innerHTML = '';\n",
              "          dataTable['output_type'] = 'display_data';\n",
              "          await google.colab.output.renderOutput(dataTable, element);\n",
              "          const docLink = document.createElement('div');\n",
              "          docLink.innerHTML = docLinkHtml;\n",
              "          element.appendChild(docLink);\n",
              "        }\n",
              "      </script>\n",
              "    </div>\n",
              "  </div>\n",
              "  "
            ]
          },
          "metadata": {},
          "execution_count": 32
        }
      ]
    },
    {
      "cell_type": "markdown",
      "source": [
        "## LPS algorithm"
      ],
      "metadata": {
        "id": "fHjgJiYwdEPm"
      }
    },
    {
      "cell_type": "code",
      "source": [
        "def LPS(train_df):\n",
        "  LPS_parts = []\n",
        "  for part in PARTITION(train_df, train_df[DEGREE]):\n",
        "      #train the model\n",
        "      X_part = part.drop(TWO_YEAR_RECID, axis=1)\n",
        "      y_part = part[TWO_YEAR_RECID]\n",
        "      model = GBC.fit(X_part, y_part)\n",
        "\n",
        "      #RACE=1: Caucasian\n",
        "      part1 = part[part[RACE]==1]\n",
        "      part1.reset_index(drop=True, inplace=True)\n",
        "      delta1 = DELTA(train_df, part, 1)\n",
        "      X_part1 = part1.drop(TWO_YEAR_RECID, axis=1)\n",
        "      y_part1 = part1[TWO_YEAR_RECID]\n",
        "      rank = pd.DataFrame(model.decision_function(X_part1), columns = ['rank'])\n",
        "      comb1 = pd.concat([part1, rank], axis=1)\n",
        "\n",
        "      #RACE=0: African-American\n",
        "      part0 = part[part[RACE]==0]\n",
        "      part0.reset_index(drop=True, inplace=True)\n",
        "      delta0 = DELTA(train_df, part, 0)\n",
        "      X_part0 = part0.drop(TWO_YEAR_RECID, axis=1)\n",
        "      y_part0 = part0[TWO_YEAR_RECID]\n",
        "      rank = pd.DataFrame(model.decision_function(X_part0), columns = ['rank'])\n",
        "      comb0 = pd.concat([part0, rank], axis=1)\n",
        "\n",
        "      #delete half of closest delta datapoints - based on rank for Caucasian datapoints\n",
        "      #rank data first\n",
        "      comb1 = comb1.sort_values([TWO_YEAR_RECID, 'rank'])\n",
        "      comb1.reset_index(drop=True, inplace=True)\n",
        "\n",
        "      t = sum(comb1[TWO_YEAR_RECID]==0)\n",
        "      l = len(comb1)\n",
        "\n",
        "      F1 = np.full(t-delta1, False)\n",
        "      T = np.full(delta1, True)\n",
        "      F2 = np.full(l-t, False)\n",
        "\n",
        "      delete = np.invert(np.concatenate([F1, T, F2]))\n",
        "  \n",
        "\n",
        "      #duplicate half of closest dalta datapoints + based on rank for Caucasian datapoints\n",
        "      F3 = np.full(t, False)\n",
        "      F4 = np.full(l-t-delta1, False)\n",
        "\n",
        "      duplicate = np.concatenate([F3, T, F4])\n",
        "      \n",
        "      dupes = comb1[duplicate]\n",
        "      comb1 = comb1[delete]\n",
        "      comb1 = pd.concat([comb1,dupes], axis=0)\n",
        "      LPS_parts.append(comb1)\n",
        "\n",
        "      #delete half of closest delta datapoints + based on rank for African American datapoints\n",
        "      #rank data first\n",
        "      comb0 = comb0.sort_values([TWO_YEAR_RECID, 'rank'])\n",
        "      comb0.reset_index(drop=True, inplace=True)\n",
        "      \n",
        "      t = sum(comb0[TWO_YEAR_RECID]==1)\n",
        "      l = len(comb0)\n",
        "\n",
        "      F1 = np.full(l-t, False)\n",
        "      T = np.full(delta0, True)\n",
        "      F2 = np.full(t-delta0, False)\n",
        "\n",
        "      delete = np.invert(np.concatenate([F1, T, F2]))\n",
        "\n",
        "      #duplicate half of closest delta datapoints + based on rank for African American datapoints\n",
        "      F3 = np.full(l-t-delta0, False)\n",
        "      F4 = np.full(t, False)\n",
        "\n",
        "      duplicate = np.concatenate([F3, T, F4])\n",
        "\n",
        "      dupes = comb0[duplicate]\n",
        "      comb0 = comb0[delete]\n",
        "      comb0 = pd.concat([comb0,dupes], axis=0)\n",
        "      LPS_parts.append(comb0)\n",
        "\n",
        "  train_df_lps = pd.concat([LPS_parts[0],LPS_parts[1], LPS_parts[2], LPS_parts[3]], axis=0)\n",
        "\n",
        "  return train_df_lps"
      ],
      "metadata": {
        "id": "suRNNtSWdNoX"
      },
      "execution_count": 33,
      "outputs": []
    },
    {
      "cell_type": "markdown",
      "source": [
        "### Measure of Discrimination——After LPS"
      ],
      "metadata": {
        "id": "4Mnzjx9JmlXs"
      }
    },
    {
      "cell_type": "code",
      "source": [
        "train_df_lps = LPS(train_df)\n",
        "\n",
        "after_overview = train_df_lps.groupby([DEGREE, 'race']).two_year_recid.agg(['count','sum']).reset_index()\n",
        "after_overview['recid_rate'] = after_overview['sum']/after_overview['count']\n",
        "after_overview.loc[after_overview['race'] == 1, 'race'] = 'Caucasian'\n",
        "after_overview.loc[after_overview['race'] == 0, 'race'] = 'African-American'\n",
        "after_overview.loc[after_overview['has_prior'] == 1, 'has_prior'] = 'True'\n",
        "after_overview.loc[after_overview['has_prior'] ==0, 'has_prior'] = 'False'\n",
        "after_overview.rename(columns={'sum':'recid_count'}, inplace=True)\n",
        "after_overview"
      ],
      "metadata": {
        "id": "D7y_i9gFmmEe",
        "colab": {
          "base_uri": "https://localhost:8080/",
          "height": 175
        },
        "outputId": "ccb1d80a-e803-43ac-c7fb-23a6fce5706c"
      },
      "execution_count": 34,
      "outputs": [
        {
          "output_type": "execute_result",
          "data": {
            "text/plain": [
              "  has_prior              race  count  recid_count  recid_rate\n",
              "0     False  African-American    668          195    0.291916\n",
              "1     False         Caucasian    655          190    0.290076\n",
              "2      True  African-American   1861          989    0.531435\n",
              "3      True         Caucasian   1038          551    0.530829"
            ],
            "text/html": [
              "\n",
              "  <div id=\"df-68f3c49d-379b-480b-9c61-01060baa796b\">\n",
              "    <div class=\"colab-df-container\">\n",
              "      <div>\n",
              "<style scoped>\n",
              "    .dataframe tbody tr th:only-of-type {\n",
              "        vertical-align: middle;\n",
              "    }\n",
              "\n",
              "    .dataframe tbody tr th {\n",
              "        vertical-align: top;\n",
              "    }\n",
              "\n",
              "    .dataframe thead th {\n",
              "        text-align: right;\n",
              "    }\n",
              "</style>\n",
              "<table border=\"1\" class=\"dataframe\">\n",
              "  <thead>\n",
              "    <tr style=\"text-align: right;\">\n",
              "      <th></th>\n",
              "      <th>has_prior</th>\n",
              "      <th>race</th>\n",
              "      <th>count</th>\n",
              "      <th>recid_count</th>\n",
              "      <th>recid_rate</th>\n",
              "    </tr>\n",
              "  </thead>\n",
              "  <tbody>\n",
              "    <tr>\n",
              "      <th>0</th>\n",
              "      <td>False</td>\n",
              "      <td>African-American</td>\n",
              "      <td>668</td>\n",
              "      <td>195</td>\n",
              "      <td>0.291916</td>\n",
              "    </tr>\n",
              "    <tr>\n",
              "      <th>1</th>\n",
              "      <td>False</td>\n",
              "      <td>Caucasian</td>\n",
              "      <td>655</td>\n",
              "      <td>190</td>\n",
              "      <td>0.290076</td>\n",
              "    </tr>\n",
              "    <tr>\n",
              "      <th>2</th>\n",
              "      <td>True</td>\n",
              "      <td>African-American</td>\n",
              "      <td>1861</td>\n",
              "      <td>989</td>\n",
              "      <td>0.531435</td>\n",
              "    </tr>\n",
              "    <tr>\n",
              "      <th>3</th>\n",
              "      <td>True</td>\n",
              "      <td>Caucasian</td>\n",
              "      <td>1038</td>\n",
              "      <td>551</td>\n",
              "      <td>0.530829</td>\n",
              "    </tr>\n",
              "  </tbody>\n",
              "</table>\n",
              "</div>\n",
              "      <button class=\"colab-df-convert\" onclick=\"convertToInteractive('df-68f3c49d-379b-480b-9c61-01060baa796b')\"\n",
              "              title=\"Convert this dataframe to an interactive table.\"\n",
              "              style=\"display:none;\">\n",
              "        \n",
              "  <svg xmlns=\"http://www.w3.org/2000/svg\" height=\"24px\"viewBox=\"0 0 24 24\"\n",
              "       width=\"24px\">\n",
              "    <path d=\"M0 0h24v24H0V0z\" fill=\"none\"/>\n",
              "    <path d=\"M18.56 5.44l.94 2.06.94-2.06 2.06-.94-2.06-.94-.94-2.06-.94 2.06-2.06.94zm-11 1L8.5 8.5l.94-2.06 2.06-.94-2.06-.94L8.5 2.5l-.94 2.06-2.06.94zm10 10l.94 2.06.94-2.06 2.06-.94-2.06-.94-.94-2.06-.94 2.06-2.06.94z\"/><path d=\"M17.41 7.96l-1.37-1.37c-.4-.4-.92-.59-1.43-.59-.52 0-1.04.2-1.43.59L10.3 9.45l-7.72 7.72c-.78.78-.78 2.05 0 2.83L4 21.41c.39.39.9.59 1.41.59.51 0 1.02-.2 1.41-.59l7.78-7.78 2.81-2.81c.8-.78.8-2.07 0-2.86zM5.41 20L4 18.59l7.72-7.72 1.47 1.35L5.41 20z\"/>\n",
              "  </svg>\n",
              "      </button>\n",
              "      \n",
              "  <style>\n",
              "    .colab-df-container {\n",
              "      display:flex;\n",
              "      flex-wrap:wrap;\n",
              "      gap: 12px;\n",
              "    }\n",
              "\n",
              "    .colab-df-convert {\n",
              "      background-color: #E8F0FE;\n",
              "      border: none;\n",
              "      border-radius: 50%;\n",
              "      cursor: pointer;\n",
              "      display: none;\n",
              "      fill: #1967D2;\n",
              "      height: 32px;\n",
              "      padding: 0 0 0 0;\n",
              "      width: 32px;\n",
              "    }\n",
              "\n",
              "    .colab-df-convert:hover {\n",
              "      background-color: #E2EBFA;\n",
              "      box-shadow: 0px 1px 2px rgba(60, 64, 67, 0.3), 0px 1px 3px 1px rgba(60, 64, 67, 0.15);\n",
              "      fill: #174EA6;\n",
              "    }\n",
              "\n",
              "    [theme=dark] .colab-df-convert {\n",
              "      background-color: #3B4455;\n",
              "      fill: #D2E3FC;\n",
              "    }\n",
              "\n",
              "    [theme=dark] .colab-df-convert:hover {\n",
              "      background-color: #434B5C;\n",
              "      box-shadow: 0px 1px 3px 1px rgba(0, 0, 0, 0.15);\n",
              "      filter: drop-shadow(0px 1px 2px rgba(0, 0, 0, 0.3));\n",
              "      fill: #FFFFFF;\n",
              "    }\n",
              "  </style>\n",
              "\n",
              "      <script>\n",
              "        const buttonEl =\n",
              "          document.querySelector('#df-68f3c49d-379b-480b-9c61-01060baa796b button.colab-df-convert');\n",
              "        buttonEl.style.display =\n",
              "          google.colab.kernel.accessAllowed ? 'block' : 'none';\n",
              "\n",
              "        async function convertToInteractive(key) {\n",
              "          const element = document.querySelector('#df-68f3c49d-379b-480b-9c61-01060baa796b');\n",
              "          const dataTable =\n",
              "            await google.colab.kernel.invokeFunction('convertToInteractive',\n",
              "                                                     [key], {});\n",
              "          if (!dataTable) return;\n",
              "\n",
              "          const docLinkHtml = 'Like what you see? Visit the ' +\n",
              "            '<a target=\"_blank\" href=https://colab.research.google.com/notebooks/data_table.ipynb>data table notebook</a>'\n",
              "            + ' to learn more about interactive tables.';\n",
              "          element.innerHTML = '';\n",
              "          dataTable['output_type'] = 'display_data';\n",
              "          await google.colab.output.renderOutput(dataTable, element);\n",
              "          const docLink = document.createElement('div');\n",
              "          docLink.innerHTML = docLinkHtml;\n",
              "          element.appendChild(docLink);\n",
              "        }\n",
              "      </script>\n",
              "    </div>\n",
              "  </div>\n",
              "  "
            ]
          },
          "metadata": {},
          "execution_count": 34
        }
      ]
    },
    {
      "cell_type": "code",
      "source": [
        "GBC = GradientBoostingClassifier(n_estimators=80, learning_rate=0.25, max_depth=1, max_features=5, random_state=0)\n",
        "clf_lps = GBC.fit(train_df_lps.drop(['two_year_recid', 'rank'], axis=1), train_df_lm['two_year_recid']);"
      ],
      "metadata": {
        "id": "j1R6TsrezMzJ"
      },
      "execution_count": 35,
      "outputs": []
    },
    {
      "cell_type": "code",
      "source": [
        "y_test_pred_lps = clf_lps.predict(X_test)\n",
        "print(classification_report(y_test, y_test_pred_lps))"
      ],
      "metadata": {
        "colab": {
          "base_uri": "https://localhost:8080/"
        },
        "id": "7ypc31tYzRia",
        "outputId": "917d2bd0-d2b5-480f-ca95-0011a32aa13f"
      },
      "execution_count": 36,
      "outputs": [
        {
          "output_type": "stream",
          "name": "stdout",
          "text": [
            "              precision    recall  f1-score   support\n",
            "\n",
            "           0       0.61      0.71      0.65       542\n",
            "           1       0.63      0.51      0.56       514\n",
            "\n",
            "    accuracy                           0.61      1056\n",
            "   macro avg       0.62      0.61      0.61      1056\n",
            "weighted avg       0.62      0.61      0.61      1056\n",
            "\n"
          ]
        }
      ]
    },
    {
      "cell_type": "code",
      "source": [
        "fig, ax = plt.subplots(1, 2, figsize=(15,6))\n",
        "fig.suptitle('Confusion Matricies of Caucasians and African Americans on Validation Set')\n",
        "\n",
        "y_test_pred_c = clf_lps.predict(X_test[X_test['race']==1])\n",
        "cm_c = confusion_matrix(y_test[X_test['race']==1], y_test_pred_c)\n",
        "sns.heatmap(cm_c, annot=True, fmt='g', ax=ax[0], cmap=\"YlGnBu\")\n",
        "ax[0].set_xlabel('Predicted labels');ax[0].set_ylabel('True labels')\n",
        "ax[0].set_title('Caucasians')\n",
        "\n",
        "y_test_pred_aa = clf_lps.predict(X_test[X_test['race']==0])\n",
        "cm_aa = confusion_matrix(y_test[X_test['race']==0], y_test_pred_aa)\n",
        "sns.heatmap(cm_aa, annot=True, fmt='g', ax=ax[1], cmap=\"YlGnBu\")\n",
        "ax[1].set_xlabel('Predicted labels');ax[1].set_ylabel('True labels')\n",
        "ax[1].set_title('African Americans');"
      ],
      "metadata": {
        "colab": {
          "base_uri": "https://localhost:8080/",
          "height": 437
        },
        "id": "CcdYO0ylQc95",
        "outputId": "c0f1a09f-52dd-4959-a993-a6c676fb5203"
      },
      "execution_count": 37,
      "outputs": [
        {
          "output_type": "display_data",
          "data": {
            "text/plain": [
              "<Figure size 1080x432 with 4 Axes>"
            ],
            "image/png": "[encoded data removed]"
          },
          "metadata": {
            "needs_background": "light"
          }
        }
      ]
    },
    {
      "cell_type": "code",
      "source": [
        "y_train_pred_lps = clf_lps.predict(X_train)\n",
        "y_test_pred_lps = clf_lps.predict(X_test)\n",
        "\n",
        "summary_stats.extend(model_score(y_train, y_train_pred_lps))\n",
        "summary_stats.extend(model_score(y_test, y_test_pred_lps))"
      ],
      "metadata": {
        "id": "ipFIdB4ep0ek"
      },
      "execution_count": 38,
      "outputs": []
    },
    {
      "cell_type": "markdown",
      "source": [
        "#### parity"
      ],
      "metadata": {
        "id": "w5NFN6QKp_5x"
      }
    },
    {
      "cell_type": "code",
      "source": [
        "y_test_pred_c_lps = clf_lps.predict(X_test[X_test['race']==1])\n",
        "tn_c, fp_c, fn_c, tp_c = confusion_matrix(y_test[X_test['race']==1], y_test_pred_c_lps).ravel()\n",
        "y_test_pred_aa_lps = clf_lps.predict(X_test[X_test['race']==0])\n",
        "tn_aa, fp_aa, fn_aa, tp_aa = confusion_matrix(y_test[X_test['race']==0], y_test_pred_aa_lps).ravel()"
      ],
      "metadata": {
        "id": "-x_9xXdVqCSD"
      },
      "execution_count": 39,
      "outputs": []
    },
    {
      "cell_type": "code",
      "source": [
        "C = tp_c/(tn_c+fp_c+fn_c+tp_c)\n",
        "AA = tp_aa/(tn_aa+fp_aa+fn_aa+tp_aa)\n",
        "print('P(G=1|Race=Caucasian)=', C)\n",
        "print('P(G=1|Race=African American)=', AA)\n",
        "print('P(G=1|Race=African American)!=P(G=1|Race=Caucasian)')\n",
        "print('Parity:', abs(AA-C))\n",
        "summary_stats.append(abs(AA-C))"
      ],
      "metadata": {
        "colab": {
          "base_uri": "https://localhost:8080/"
        },
        "id": "o5hzLrVEqpO0",
        "outputId": "554883bf-b506-465f-a1f4-da76b241a624"
      },
      "execution_count": 40,
      "outputs": [
        {
          "output_type": "stream",
          "name": "stdout",
          "text": [
            "P(G=1|Race=Caucasian)= 0.23902439024390243\n",
            "P(G=1|Race=African American)= 0.25386996904024767\n",
            "P(G=1|Race=African American)!=P(G=1|Race=Caucasian)\n",
            "Parity: 0.014845578796345238\n"
          ]
        }
      ]
    },
    {
      "cell_type": "markdown",
      "source": [
        "#### Calibration"
      ],
      "metadata": {
        "id": "7UfufscHq2h-"
      }
    },
    {
      "cell_type": "code",
      "source": [
        "C = (tn_c+tp_c)/(tn_c+fp_c+fn_c+tp_c)\n",
        "AA = (tn_aa+tp_aa)/(tn_aa+fp_aa+fn_aa+tp_aa)\n",
        "print('P(G=T|Race=Caucasian)=', C)\n",
        "print('P(G=T|Race=African American)=', AA)\n",
        "print('P(G=T|Race=African American)~=P(G=T|Race=Caucasian)')\n",
        "print('Calibration:', abs(AA-C))\n",
        "summary_stats.append(abs(AA-C))"
      ],
      "metadata": {
        "colab": {
          "base_uri": "https://localhost:8080/"
        },
        "id": "mXEr7pI6q1Yq",
        "outputId": "022eb2c4-a4a5-4ed4-809f-8fa049c70281"
      },
      "execution_count": 41,
      "outputs": [
        {
          "output_type": "stream",
          "name": "stdout",
          "text": [
            "P(G=T|Race=Caucasian)= 0.6317073170731707\n",
            "P(G=T|Race=African American)= 0.6021671826625387\n",
            "P(G=T|Race=African American)~=P(G=T|Race=Caucasian)\n",
            "Calibration: 0.02954013441063208\n"
          ]
        }
      ]
    },
    {
      "cell_type": "markdown",
      "source": [
        "#### Equality of Odds:"
      ],
      "metadata": {
        "id": "iPatnHVarSls"
      }
    },
    {
      "cell_type": "code",
      "source": [
        "C = (tp_c)/(fn_c+tp_c)\n",
        "AA = (tp_aa)/(fn_aa+tp_aa)\n",
        "print('P(G=T|Race=Caucasian,Recidivism=True)=', C)\n",
        "print('P(G=T|Race=African American,Recidivism=True)=', AA)\n",
        "print('P(G=T|Race=African American,Recidivism=True)!=P(G=T|Race=caucasian,Recidivism=True)')\n",
        "print('Equality of Odds:', abs(AA-C))\n",
        "summary_stats.append(abs(AA-C))"
      ],
      "metadata": {
        "colab": {
          "base_uri": "https://localhost:8080/"
        },
        "id": "OflBmW5Sqv7d",
        "outputId": "b28dca03-a6d4-4b92-caa6-39772e4796ed"
      },
      "execution_count": 42,
      "outputs": [
        {
          "output_type": "stream",
          "name": "stdout",
          "text": [
            "P(G=T|Race=Caucasian,Recidivism=True)= 0.6163522012578616\n",
            "P(G=T|Race=African American,Recidivism=True)= 0.4619718309859155\n",
            "P(G=T|Race=African American,Recidivism=True)!=P(G=T|Race=caucasian,Recidivism=True)\n",
            "Equality of Odds: 0.15438037027194612\n"
          ]
        }
      ]
    },
    {
      "cell_type": "markdown",
      "source": [
        "#### False Positive Rate (5-folder cross validation)"
      ],
      "metadata": {
        "id": "h1d2xeaPrmqc"
      }
    },
    {
      "cell_type": "code",
      "source": [
        "X = dummy_data[['age', 'race', 'c_charge_degree', 'sex', 'length_of_stay', 'has_juv', 'has_prior']]\n",
        "y = dummy_data['two_year_recid']\n",
        "\n",
        "model = GradientBoostingClassifier(n_estimators=80, learning_rate=0.25, max_depth=1, max_features=5, random_state=0)\n",
        "exp_df_LPS = pd.DataFrame(columns=['Experiment', 'Accuracy (mean)', 'Accuracy (std)', \n",
        "                               'Black FPR', 'White FPR','Black Acc', 'White Acc', 'Calibration'])\n",
        "\n",
        "black_cal, white_cal, black_fpr, white_fpr, Acc = bias_exp(X, y, algor='LPS')\n",
        "exp_df_LPS.loc[len(exp_df_LPS.index)] = [\"LPS\", np.mean(Acc), np.std(Acc),\n",
        "                                 np.mean(black_fpr), np.mean(white_fpr), np.mean(black_cal), np.mean(white_cal), \n",
        "                                 abs(np.mean(black_cal)-np.mean(white_cal))]\n",
        "\n",
        "exp_df_LPS"
      ],
      "metadata": {
        "colab": {
          "base_uri": "https://localhost:8080/",
          "height": 80
        },
        "id": "s3OcXECw1Zfj",
        "outputId": "553f8b10-fa17-4c48-dd59-3e971736de2f"
      },
      "execution_count": 43,
      "outputs": [
        {
          "output_type": "execute_result",
          "data": {
            "text/plain": [
              "  Experiment  Accuracy (mean)  Accuracy (std)  Black FPR  White FPR  \\\n",
              "0        LPS         0.657765        0.017136   0.254135   0.286929   \n",
              "\n",
              "   Black Acc  White Acc  Calibration  \n",
              "0   0.664988   0.646359     0.018629  "
            ],
            "text/html": [
              "\n",
              "  <div id=\"df-a132fb65-faed-4644-bece-d35b8d72554c\">\n",
              "    <div class=\"colab-df-container\">\n",
              "      <div>\n",
              "<style scoped>\n",
              "    .dataframe tbody tr th:only-of-type {\n",
              "        vertical-align: middle;\n",
              "    }\n",
              "\n",
              "    .dataframe tbody tr th {\n",
              "        vertical-align: top;\n",
              "    }\n",
              "\n",
              "    .dataframe thead th {\n",
              "        text-align: right;\n",
              "    }\n",
              "</style>\n",
              "<table border=\"1\" class=\"dataframe\">\n",
              "  <thead>\n",
              "    <tr style=\"text-align: right;\">\n",
              "      <th></th>\n",
              "      <th>Experiment</th>\n",
              "      <th>Accuracy (mean)</th>\n",
              "      <th>Accuracy (std)</th>\n",
              "      <th>Black FPR</th>\n",
              "      <th>White FPR</th>\n",
              "      <th>Black Acc</th>\n",
              "      <th>White Acc</th>\n",
              "      <th>Calibration</th>\n",
              "    </tr>\n",
              "  </thead>\n",
              "  <tbody>\n",
              "    <tr>\n",
              "      <th>0</th>\n",
              "      <td>LPS</td>\n",
              "      <td>0.657765</td>\n",
              "      <td>0.017136</td>\n",
              "      <td>0.254135</td>\n",
              "      <td>0.286929</td>\n",
              "      <td>0.664988</td>\n",
              "      <td>0.646359</td>\n",
              "      <td>0.018629</td>\n",
              "    </tr>\n",
              "  </tbody>\n",
              "</table>\n",
              "</div>\n",
              "      <button class=\"colab-df-convert\" onclick=\"convertToInteractive('df-a132fb65-faed-4644-bece-d35b8d72554c')\"\n",
              "              title=\"Convert this dataframe to an interactive table.\"\n",
              "              style=\"display:none;\">\n",
              "        \n",
              "  <svg xmlns=\"http://www.w3.org/2000/svg\" height=\"24px\"viewBox=\"0 0 24 24\"\n",
              "       width=\"24px\">\n",
              "    <path d=\"M0 0h24v24H0V0z\" fill=\"none\"/>\n",
              "    <path d=\"M18.56 5.44l.94 2.06.94-2.06 2.06-.94-2.06-.94-.94-2.06-.94 2.06-2.06.94zm-11 1L8.5 8.5l.94-2.06 2.06-.94-2.06-.94L8.5 2.5l-.94 2.06-2.06.94zm10 10l.94 2.06.94-2.06 2.06-.94-2.06-.94-.94-2.06-.94 2.06-2.06.94z\"/><path d=\"M17.41 7.96l-1.37-1.37c-.4-.4-.92-.59-1.43-.59-.52 0-1.04.2-1.43.59L10.3 9.45l-7.72 7.72c-.78.78-.78 2.05 0 2.83L4 21.41c.39.39.9.59 1.41.59.51 0 1.02-.2 1.41-.59l7.78-7.78 2.81-2.81c.8-.78.8-2.07 0-2.86zM5.41 20L4 18.59l7.72-7.72 1.47 1.35L5.41 20z\"/>\n",
              "  </svg>\n",
              "      </button>\n",
              "      \n",
              "  <style>\n",
              "    .colab-df-container {\n",
              "      display:flex;\n",
              "      flex-wrap:wrap;\n",
              "      gap: 12px;\n",
              "    }\n",
              "\n",
              "    .colab-df-convert {\n",
              "      background-color: #E8F0FE;\n",
              "      border: none;\n",
              "      border-radius: 50%;\n",
              "      cursor: pointer;\n",
              "      display: none;\n",
              "      fill: #1967D2;\n",
              "      height: 32px;\n",
              "      padding: 0 0 0 0;\n",
              "      width: 32px;\n",
              "    }\n",
              "\n",
              "    .colab-df-convert:hover {\n",
              "      background-color: #E2EBFA;\n",
              "      box-shadow: 0px 1px 2px rgba(60, 64, 67, 0.3), 0px 1px 3px 1px rgba(60, 64, 67, 0.15);\n",
              "      fill: #174EA6;\n",
              "    }\n",
              "\n",
              "    [theme=dark] .colab-df-convert {\n",
              "      background-color: #3B4455;\n",
              "      fill: #D2E3FC;\n",
              "    }\n",
              "\n",
              "    [theme=dark] .colab-df-convert:hover {\n",
              "      background-color: #434B5C;\n",
              "      box-shadow: 0px 1px 3px 1px rgba(0, 0, 0, 0.15);\n",
              "      filter: drop-shadow(0px 1px 2px rgba(0, 0, 0, 0.3));\n",
              "      fill: #FFFFFF;\n",
              "    }\n",
              "  </style>\n",
              "\n",
              "      <script>\n",
              "        const buttonEl =\n",
              "          document.querySelector('#df-a132fb65-faed-4644-bece-d35b8d72554c button.colab-df-convert');\n",
              "        buttonEl.style.display =\n",
              "          google.colab.kernel.accessAllowed ? 'block' : 'none';\n",
              "\n",
              "        async function convertToInteractive(key) {\n",
              "          const element = document.querySelector('#df-a132fb65-faed-4644-bece-d35b8d72554c');\n",
              "          const dataTable =\n",
              "            await google.colab.kernel.invokeFunction('convertToInteractive',\n",
              "                                                     [key], {});\n",
              "          if (!dataTable) return;\n",
              "\n",
              "          const docLinkHtml = 'Like what you see? Visit the ' +\n",
              "            '<a target=\"_blank\" href=https://colab.research.google.com/notebooks/data_table.ipynb>data table notebook</a>'\n",
              "            + ' to learn more about interactive tables.';\n",
              "          element.innerHTML = '';\n",
              "          dataTable['output_type'] = 'display_data';\n",
              "          await google.colab.output.renderOutput(dataTable, element);\n",
              "          const docLink = document.createElement('div');\n",
              "          docLink.innerHTML = docLinkHtml;\n",
              "          element.appendChild(docLink);\n",
              "        }\n",
              "      </script>\n",
              "    </div>\n",
              "  </div>\n",
              "  "
            ]
          },
          "metadata": {},
          "execution_count": 43
        }
      ]
    },
    {
      "cell_type": "markdown",
      "source": [
        "## Conclusion"
      ],
      "metadata": {
        "id": "FAenz8LgcSj4"
      }
    },
    {
      "cell_type": "code",
      "source": [
        "from matplotlib.pyplot import figure\n",
        "labels = ['train_prec', 'train_rec', 'train_acc', 'test_prec', 'test_rec', 'test_acc', 'parity', 'calibration', 'equal_of_odds']\n",
        "conc_df = pd.DataFrame(np.array(summary_stats).reshape(3,9), columns=labels)\n",
        "algo = pd.DataFrame(['original', 'LM', 'LPS'], columns = ['algo'])\n",
        "conc_df = pd.concat([conc_df, algo], axis=1)\n",
        "conc_df = conc_df.set_index('algo').T#.rename_axis('Variable')\n",
        "\n",
        "conc_df.plot(kind='bar', figsize=(16,8), title='Side by Side Statistics of the Different Algorithms')\n",
        "plt.show()"
      ],
      "metadata": {
        "colab": {
          "base_uri": "https://localhost:8080/",
          "height": 570
        },
        "id": "1I1oqgxlZYSR",
        "outputId": "5b4df84f-8342-4a0b-f73d-4acf1b5e6f84"
      },
      "execution_count": 44,
      "outputs": [
        {
          "output_type": "display_data",
          "data": {
            "text/plain": [
              "<Figure size 1152x576 with 1 Axes>"
            ],
            "image/png": "[encoded data removed]"
          },
          "metadata": {
            "needs_background": "light"
          }
        }
      ]
    },
    {
      "cell_type": "code",
      "source": [
        "exp_df = pd.concat([exp_df_Ori, exp_df_LM, exp_df_LPS]).reset_index()\n",
        "exp_df"
      ],
      "metadata": {
        "colab": {
          "base_uri": "https://localhost:8080/",
          "height": 143
        },
        "id": "5IUcb-KiXtlI",
        "outputId": "3b03d99e-e758-4b0d-cb4e-7d0b4539ac42"
      },
      "execution_count": 51,
      "outputs": [
        {
          "output_type": "execute_result",
          "data": {
            "text/plain": [
              "   index Experiment  Accuracy (mean)  Accuracy (std)  Black FPR  White FPR  \\\n",
              "0      0   Original         0.667614        0.018778   0.396039   0.185077   \n",
              "1      0         LM         0.660038        0.011253   0.288819   0.272368   \n",
              "2      0        LPS         0.657765        0.017136   0.254135   0.286929   \n",
              "\n",
              "   Black Acc  White Acc  Calibration  \n",
              "0   0.669379   0.664800     0.004579  \n",
              "1   0.669465   0.645235     0.024230  \n",
              "2   0.664988   0.646359     0.018629  "
            ],
            "text/html": [
              "\n",
              "  <div id=\"df-6d873f51-16dd-489b-b9ef-1a86e41e31f0\">\n",
              "    <div class=\"colab-df-container\">\n",
              "      <div>\n",
              "<style scoped>\n",
              "    .dataframe tbody tr th:only-of-type {\n",
              "        vertical-align: middle;\n",
              "    }\n",
              "\n",
              "    .dataframe tbody tr th {\n",
              "        vertical-align: top;\n",
              "    }\n",
              "\n",
              "    .dataframe thead th {\n",
              "        text-align: right;\n",
              "    }\n",
              "</style>\n",
              "<table border=\"1\" class=\"dataframe\">\n",
              "  <thead>\n",
              "    <tr style=\"text-align: right;\">\n",
              "      <th></th>\n",
              "      <th>index</th>\n",
              "      <th>Experiment</th>\n",
              "      <th>Accuracy (mean)</th>\n",
              "      <th>Accuracy (std)</th>\n",
              "      <th>Black FPR</th>\n",
              "      <th>White FPR</th>\n",
              "      <th>Black Acc</th>\n",
              "      <th>White Acc</th>\n",
              "      <th>Calibration</th>\n",
              "    </tr>\n",
              "  </thead>\n",
              "  <tbody>\n",
              "    <tr>\n",
              "      <th>0</th>\n",
              "      <td>0</td>\n",
              "      <td>Original</td>\n",
              "      <td>0.667614</td>\n",
              "      <td>0.018778</td>\n",
              "      <td>0.396039</td>\n",
              "      <td>0.185077</td>\n",
              "      <td>0.669379</td>\n",
              "      <td>0.664800</td>\n",
              "      <td>0.004579</td>\n",
              "    </tr>\n",
              "    <tr>\n",
              "      <th>1</th>\n",
              "      <td>0</td>\n",
              "      <td>LM</td>\n",
              "      <td>0.660038</td>\n",
              "      <td>0.011253</td>\n",
              "      <td>0.288819</td>\n",
              "      <td>0.272368</td>\n",
              "      <td>0.669465</td>\n",
              "      <td>0.645235</td>\n",
              "      <td>0.024230</td>\n",
              "    </tr>\n",
              "    <tr>\n",
              "      <th>2</th>\n",
              "      <td>0</td>\n",
              "      <td>LPS</td>\n",
              "      <td>0.657765</td>\n",
              "      <td>0.017136</td>\n",
              "      <td>0.254135</td>\n",
              "      <td>0.286929</td>\n",
              "      <td>0.664988</td>\n",
              "      <td>0.646359</td>\n",
              "      <td>0.018629</td>\n",
              "    </tr>\n",
              "  </tbody>\n",
              "</table>\n",
              "</div>\n",
              "      <button class=\"colab-df-convert\" onclick=\"convertToInteractive('df-6d873f51-16dd-489b-b9ef-1a86e41e31f0')\"\n",
              "              title=\"Convert this dataframe to an interactive table.\"\n",
              "              style=\"display:none;\">\n",
              "        \n",
              "  <svg xmlns=\"http://www.w3.org/2000/svg\" height=\"24px\"viewBox=\"0 0 24 24\"\n",
              "       width=\"24px\">\n",
              "    <path d=\"M0 0h24v24H0V0z\" fill=\"none\"/>\n",
              "    <path d=\"M18.56 5.44l.94 2.06.94-2.06 2.06-.94-2.06-.94-.94-2.06-.94 2.06-2.06.94zm-11 1L8.5 8.5l.94-2.06 2.06-.94-2.06-.94L8.5 2.5l-.94 2.06-2.06.94zm10 10l.94 2.06.94-2.06 2.06-.94-2.06-.94-.94-2.06-.94 2.06-2.06.94z\"/><path d=\"M17.41 7.96l-1.37-1.37c-.4-.4-.92-.59-1.43-.59-.52 0-1.04.2-1.43.59L10.3 9.45l-7.72 7.72c-.78.78-.78 2.05 0 2.83L4 21.41c.39.39.9.59 1.41.59.51 0 1.02-.2 1.41-.59l7.78-7.78 2.81-2.81c.8-.78.8-2.07 0-2.86zM5.41 20L4 18.59l7.72-7.72 1.47 1.35L5.41 20z\"/>\n",
              "  </svg>\n",
              "      </button>\n",
              "      \n",
              "  <style>\n",
              "    .colab-df-container {\n",
              "      display:flex;\n",
              "      flex-wrap:wrap;\n",
              "      gap: 12px;\n",
              "    }\n",
              "\n",
              "    .colab-df-convert {\n",
              "      background-color: #E8F0FE;\n",
              "      border: none;\n",
              "      border-radius: 50%;\n",
              "      cursor: pointer;\n",
              "      display: none;\n",
              "      fill: #1967D2;\n",
              "      height: 32px;\n",
              "      padding: 0 0 0 0;\n",
              "      width: 32px;\n",
              "    }\n",
              "\n",
              "    .colab-df-convert:hover {\n",
              "      background-color: #E2EBFA;\n",
              "      box-shadow: 0px 1px 2px rgba(60, 64, 67, 0.3), 0px 1px 3px 1px rgba(60, 64, 67, 0.15);\n",
              "      fill: #174EA6;\n",
              "    }\n",
              "\n",
              "    [theme=dark] .colab-df-convert {\n",
              "      background-color: #3B4455;\n",
              "      fill: #D2E3FC;\n",
              "    }\n",
              "\n",
              "    [theme=dark] .colab-df-convert:hover {\n",
              "      background-color: #434B5C;\n",
              "      box-shadow: 0px 1px 3px 1px rgba(0, 0, 0, 0.15);\n",
              "      filter: drop-shadow(0px 1px 2px rgba(0, 0, 0, 0.3));\n",
              "      fill: #FFFFFF;\n",
              "    }\n",
              "  </style>\n",
              "\n",
              "      <script>\n",
              "        const buttonEl =\n",
              "          document.querySelector('#df-6d873f51-16dd-489b-b9ef-1a86e41e31f0 button.colab-df-convert');\n",
              "        buttonEl.style.display =\n",
              "          google.colab.kernel.accessAllowed ? 'block' : 'none';\n",
              "\n",
              "        async function convertToInteractive(key) {\n",
              "          const element = document.querySelector('#df-6d873f51-16dd-489b-b9ef-1a86e41e31f0');\n",
              "          const dataTable =\n",
              "            await google.colab.kernel.invokeFunction('convertToInteractive',\n",
              "                                                     [key], {});\n",
              "          if (!dataTable) return;\n",
              "\n",
              "          const docLinkHtml = 'Like what you see? Visit the ' +\n",
              "            '<a target=\"_blank\" href=https://colab.research.google.com/notebooks/data_table.ipynb>data table notebook</a>'\n",
              "            + ' to learn more about interactive tables.';\n",
              "          element.innerHTML = '';\n",
              "          dataTable['output_type'] = 'display_data';\n",
              "          await google.colab.output.renderOutput(dataTable, element);\n",
              "          const docLink = document.createElement('div');\n",
              "          docLink.innerHTML = docLinkHtml;\n",
              "          element.appendChild(docLink);\n",
              "        }\n",
              "      </script>\n",
              "    </div>\n",
              "  </div>\n",
              "  "
            ]
          },
          "metadata": {},
          "execution_count": 51
        }
      ]
    },
    {
      "cell_type": "code",
      "source": [
        "plt.scatter(exp_df['Experiment'], exp_df['Accuracy (mean)']) \n",
        "plt.errorbar(exp_df['Experiment'], exp_df['Accuracy (mean)'], yerr=exp_df['Accuracy (std)'], fmt=\"o\")\n",
        "\n",
        "plt.title('Accuracies after dropping one feature')\n",
        "plt.ylabel('Accuracy')\n",
        "plt.xlabel('Algorithm')\n",
        "plt.xticks(rotation=45, ha=\"right\")\n",
        "plt.show()"
      ],
      "metadata": {
        "colab": {
          "base_uri": "https://localhost:8080/",
          "height": 329
        },
        "id": "AQ3aeRpiNOWN",
        "outputId": "aa2f2c1d-6189-4fc8-87c4-a9a7a9ae6ba5"
      },
      "execution_count": 46,
      "outputs": [
        {
          "output_type": "display_data",
          "data": {
            "text/plain": [
              "<Figure size 432x288 with 1 Axes>"
            ],
            "image/png": "[encoded data removed]"
          },
          "metadata": {
            "needs_background": "light"
          }
        }
      ]
    },
    {
      "cell_type": "code",
      "source": [
        "labels = list(exp_df['Experiment'])\n",
        "x = np.arange(len(exp_df['Experiment']))  # the label locations\n",
        "width = 0.35  # the width of the bars\n",
        "\n",
        "fig, ax = plt.subplots()\n",
        "rects1 = ax.bar(x - width/2, exp_df['Black FPR'], width, label='African-American', color='lightcoral')\n",
        "rects2 = ax.bar(x + width/2, exp_df['White FPR'], width, label='Caucasian', color='lightskyblue')\n",
        "\n",
        "# Add some text for labels, title and custom x-axis tick labels, etc.\n",
        "ax.set_ylabel('False Positive Rate')\n",
        "ax.set_xlabel('Algorithm')\n",
        "ax.set_title('FPR: African-American v. Caucasian')\n",
        "ax.set_xticks(x)\n",
        "ax.set_xticklabels(labels, rotation=45, ha=\"right\")\n",
        "ax.legend(loc='center left', bbox_to_anchor=(1, 0.8))\n",
        "\n",
        "#fig.tight_layout()\n",
        "\n",
        "plt.show()"
      ],
      "metadata": {
        "colab": {
          "base_uri": "https://localhost:8080/",
          "height": 329
        },
        "id": "PcLZg_HIirjZ",
        "outputId": "6068280e-0926-4c0f-db3d-777100b207d4"
      },
      "execution_count": 53,
      "outputs": [
        {
          "output_type": "display_data",
          "data": {
            "text/plain": [
              "<Figure size 432x288 with 1 Axes>"
            ],
            "image/png": "[encoded data removed]"
          },
          "metadata": {
            "needs_background": "light"
          }
        }
      ]
    },
    {
      "cell_type": "code",
      "source": [
        "labels = list(exp_df['Experiment'])\n",
        "x = np.arange(len(exp_df['Experiment']))  # the label locations\n",
        "width = 0.35  # the width of the bars\n",
        "\n",
        "fig, ax = plt.subplots()\n",
        "rects1 = ax.bar(x - width/2, exp_df['Black Acc'], width, label='African-American', color='lightcoral')\n",
        "rects2 = ax.bar(x + width/2, exp_df['White Acc'], width, label='Caucasian', color='lightskyblue')\n",
        "\n",
        "# Add some text for labels, title and custom x-axis tick labels, etc.\n",
        "ax.set_ylabel('Accuracy')\n",
        "ax.set_xlabel('Algorithm')\n",
        "ax.set_title('Accuracy: African-American v. Caucasian')\n",
        "ax.set_xticks(x)\n",
        "ax.set_xticklabels(labels, rotation=45, ha=\"right\")\n",
        "ax.legend(loc='center left', bbox_to_anchor=(1, 0.8))\n",
        "\n",
        "#fig.tight_layout()\n",
        "\n",
        "plt.show()"
      ],
      "metadata": {
        "colab": {
          "base_uri": "https://localhost:8080/",
          "height": 329
        },
        "id": "tsZRBPooeIiD",
        "outputId": "c5cc3c7f-8dc9-46b1-b811-33ec87b7c0b1"
      },
      "execution_count": 48,
      "outputs": [
        {
          "output_type": "display_data",
          "data": {
            "text/plain": [
              "<Figure size 432x288 with 1 Axes>"
            ],
            "image/png": "[encoded data removed]"
          },
          "metadata": {
            "needs_background": "light"
          }
        }
      ]
    },
    {
      "cell_type": "code",
      "source": [
        "plt.bar(exp_df['Experiment'], exp_df['Black FPR'] - exp_df['White FPR'], color='thistle')\n",
        "plt.title('FPR difference')\n",
        "plt.xlabel('Algorithm')\n",
        "plt.ylabel('False Positive Rate Diff')\n",
        "plt.xticks(rotation=45, ha=\"right\")\n",
        "plt.show()"
      ],
      "metadata": {
        "colab": {
          "base_uri": "https://localhost:8080/",
          "height": 329
        },
        "id": "0V9BZXFMiuVR",
        "outputId": "ad176ceb-cc7f-41b0-aeec-b71f8bf2233b"
      },
      "execution_count": 49,
      "outputs": [
        {
          "output_type": "display_data",
          "data": {
            "text/plain": [
              "<Figure size 432x288 with 1 Axes>"
            ],
            "image/png": "[encoded data removed]"
          },
          "metadata": {
            "needs_background": "light"
          }
        }
      ]
    },
    {
      "cell_type": "code",
      "source": [
        "plt.bar(exp_df['Experiment'], exp_df['Calibration'], color='thistle')\n",
        "plt.title('Calibration')\n",
        "plt.xlabel('Algorithm')\n",
        "plt.ylabel('False Positive Rate Diff')\n",
        "plt.xticks(rotation=45, ha=\"right\")\n",
        "plt.show()"
      ],
      "metadata": {
        "colab": {
          "base_uri": "https://localhost:8080/",
          "height": 329
        },
        "id": "f3P3HyFHauzX",
        "outputId": "404099f9-f1e4-4222-edc0-688a8f772f70"
      },
      "execution_count": 50,
      "outputs": [
        {
          "output_type": "display_data",
          "data": {
            "text/plain": [
              "<Figure size 432x288 with 1 Axes>"
            ],
            "image/png": "[encoded data removed]"
          },
          "metadata": {
            "needs_background": "light"
          }
        }
      ]
    }
  ]
}