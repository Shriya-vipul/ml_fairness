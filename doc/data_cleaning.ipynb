{
  "nbformat": 4,
  "nbformat_minor": 0,
  "metadata": {
    "colab": {
      "name": "data_cleaning.ipynb",
      "provenance": []
    },
    "kernelspec": {
      "name": "python3",
      "display_name": "Python 3"
    },
    "language_info": {
      "name": "python"
    }
  },
  "cells": [
    {
      "cell_type": "markdown",
      "source": [
        "#### Loading the Data"
      ],
      "metadata": {
        "id": "0lOvrz9pjXoP"
      }
    },
    {
      "cell_type": "code",
      "source": [
        "import numpy as np\n",
        "import matplotlib.pyplot as plt\n",
        "import pandas as pd\n",
        "import os\n",
        "\n",
        "from tensorflow.keras.models import Sequential\n",
        "from tensorflow.keras.layers import Dense, ReLU, Activation, Dropout, BatchNormalization"
      ],
      "metadata": {
        "id": "aGh-sTnzj_1n"
      },
      "execution_count": null,
      "outputs": []
    },
    {
      "cell_type": "code",
      "execution_count": null,
      "metadata": {
        "colab": {
          "base_uri": "https://localhost:8080/"
        },
        "id": "-drU13V-iRd8",
        "outputId": "99c23803-6290-4ed7-a2c6-efb450398d81"
      },
      "outputs": [
        {
          "output_type": "stream",
          "name": "stdout",
          "text": [
            "Drive already mounted at /gdrive; to attempt to forcibly remount, call drive.mount(\"/gdrive\", force_remount=True).\n"
          ]
        }
      ],
      "source": [
        "# mount gdrive\n",
        "from google.colab import drive\n",
        "drive.mount('/gdrive')"
      ]
    },
    {
      "cell_type": "code",
      "source": [
        "# change root to the necessary path\n",
        "root = \"/gdrive/MyDrive/ads_proj4/ads-spring-2022-prj4-group-11-1/\"\n",
        "outputs_dir = root + \"output/\""
      ],
      "metadata": {
        "id": "P12IU0R3jWl9"
      },
      "execution_count": null,
      "outputs": []
    },
    {
      "cell_type": "code",
      "source": [
        "assert os.path.exists(root), 'Check the path to your root directory'\n",
        "assert os.path.exists(outputs_dir), 'Check the path to your outputs directory'"
      ],
      "metadata": {
        "id": "6RAR19AYd0A2"
      },
      "execution_count": null,
      "outputs": []
    },
    {
      "cell_type": "markdown",
      "source": [
        "Data Cleaning"
      ],
      "metadata": {
        "id": "Rq3VBPP0ktUG"
      }
    },
    {
      "cell_type": "code",
      "source": [
        "%load_ext rpy2.ipython\n",
        "import warnings\n",
        "warnings.filterwarnings('ignore')"
      ],
      "metadata": {
        "colab": {
          "base_uri": "https://localhost:8080/"
        },
        "id": "I6tvY7WkjwyA",
        "outputId": "ed36ca6f-1f79-4556-f7e8-27a3a9103859"
      },
      "execution_count": null,
      "outputs": [
        {
          "output_type": "stream",
          "name": "stdout",
          "text": [
            "The rpy2.ipython extension is already loaded. To reload it, use:\n",
            "  %reload_ext rpy2.ipython\n"
          ]
        }
      ]
    },
    {
      "cell_type": "code",
      "source": [
        "%%R\n",
        "library(dplyr)\n",
        "raw_data <- read.csv(\"/gdrive/MyDrive/ads_proj4/ads-spring-2022-prj4-group-11-1/data/compas-scores-two-years.csv\")\n",
        "nrow(raw_data)"
      ],
      "metadata": {
        "colab": {
          "base_uri": "https://localhost:8080/"
        },
        "id": "k-aFmEXrm-lt",
        "outputId": "d647c449-f3af-4a4d-abbe-dc2f7e95f242"
      },
      "execution_count": null,
      "outputs": [
        {
          "output_type": "stream",
          "name": "stdout",
          "text": [
            "[1] 7214\n"
          ]
        }
      ]
    },
    {
      "cell_type": "code",
      "source": [
        "%%R\n",
        "df <- dplyr::select(raw_data, age, c_charge_degree, race, age_cat, score_text, sex, priors_count, \n",
        "                    days_b_screening_arrest, decile_score, is_recid, two_year_recid, c_jail_in, c_jail_out,\n",
        "                    juv_fel_count, juv_misd_count, juv_other_count) %>% \n",
        "        filter(days_b_screening_arrest <= 30) %>%\n",
        "        filter(days_b_screening_arrest >= -30) %>%\n",
        "        filter(is_recid != -1) %>%\n",
        "        filter(c_charge_degree != \"O\") %>%\n",
        "        filter(score_text != 'N/A')"
      ],
      "metadata": {
        "id": "i1Nm-Up9peBv"
      },
      "execution_count": null,
      "outputs": []
    },
    {
      "cell_type": "code",
      "source": [
        "%%R\n",
        "# filter groups other than African-American and Caucasian\n",
        "df <- df[(df$race=='African-American') | (df$race=='Caucasian'),] \n",
        "# exchange race to dummy variable\n",
        "df$race <- ifelse(df$race=='African-American', 0, 1)\n",
        "# categorize age into 3 levels \n",
        "# 0: < 25; 1: 25 - 45, 2: > 45\n",
        "df$age_cat <- ifelse(df$age<25, 0, ifelse(25<=df$age & df$age<=45, 1, 2)) \n",
        "# calculate and categorize length of stay into 3 levels\n",
        "# 0: ≤ 1 week; 1: 1 week < length ≤ 3 months; 2: r > 3 months \n",
        "df$length_of_stay <- difftime(df$c_jail_out, df$c_jail_in, units = \"days\") \n",
        "df$length_of_stay <- ifelse(df$length_of_stay<=7, 0, ifelse(7<df$length_of_stay & df$length_of_stay<=90, 1, 2)) \n",
        "# categorize priors count into 3 levels \n",
        "# 0: 0; 1: 1-3; 2: >3\n",
        "df$priors_count <- ifelse(df$priors_count==0, 0, ifelse(1<=df$length_of_stay & df$length_of_stay<=3, 1, 2))"
      ],
      "metadata": {
        "id": "3lv0Xf0AroPC"
      },
      "execution_count": null,
      "outputs": []
    },
    {
      "cell_type": "code",
      "source": [
        "%%R\n",
        "ffs_df <- dplyr::select(df, age_cat, c_charge_degree, race, sex, priors_count, \n",
        "                    length_of_stay, two_year_recid)\n",
        "ffs_df_v2 <- dplyr::select(df, age, c_charge_degree, race, sex, priors_count, \n",
        "                    length_of_stay, two_year_recid)\n",
        "ffs_df_v3 <- dplyr::select(df, age, c_charge_degree, race, sex, priors_count, \n",
        "                    length_of_stay, two_year_recid, juv_fel_count, juv_misd_count, \n",
        "                    juv_other_count)\n",
        "head(ffs_df,5)"
      ],
      "metadata": {
        "colab": {
          "base_uri": "https://localhost:8080/"
        },
        "id": "pGJHq8AAYe1B",
        "outputId": "88125051-f053-43af-bbcf-93b5fa71f310"
      },
      "execution_count": null,
      "outputs": [
        {
          "output_type": "stream",
          "name": "stdout",
          "text": [
            "  age_cat c_charge_degree race    sex priors_count length_of_stay\n",
            "2       1               F    0   Male            0              1\n",
            "3       0               F    0   Male            2              0\n",
            "5       1               F    1   Male            2              0\n",
            "7       1               M    1 Female            0              0\n",
            "8       1               F    1   Male            0              0\n",
            "  two_year_recid\n",
            "2              1\n",
            "3              1\n",
            "5              1\n",
            "7              0\n",
            "8              0\n"
          ]
        }
      ]
    },
    {
      "cell_type": "code",
      "source": [
        "# Copy Dataframes from R to Python\n",
        "%R -o ffs_df\n",
        "%R -o ffs_df_v2\n",
        "%R -o ffs_df_v3"
      ],
      "metadata": {
        "id": "kAP3LsSBfNyT"
      },
      "execution_count": null,
      "outputs": []
    },
    {
      "cell_type": "code",
      "source": [
        "# Build data output\n",
        "ffs_df.to_csv(\"/gdrive/MyDrive/ads_proj4/ads-spring-2022-prj4-group-11-1/output/ffs_data.csv\", index=False)\n",
        "ffs_df_v2.to_csv(\"/gdrive/MyDrive/ads_proj4/ads-spring-2022-prj4-group-11-1/output/ffs_data_v2.csv\", index=False)\n",
        "ffs_df_v3.to_csv(\"/gdrive/MyDrive/ads_proj4/ads-spring-2022-prj4-group-11-1/output/ffs_data_v3.csv\", index=False)"
      ],
      "metadata": {
        "id": "v2cXcZ3BaB6l"
      },
      "execution_count": null,
      "outputs": []
    }
  ]
}